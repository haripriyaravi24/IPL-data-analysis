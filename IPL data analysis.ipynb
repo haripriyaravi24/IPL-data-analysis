{
 "cells": [
  {
   "cell_type": "markdown",
   "id": "98b7daa8",
   "metadata": {
    "papermill": {
     "duration": 0.018321,
     "end_time": "2023-04-06T16:03:53.499584",
     "exception": false,
     "start_time": "2023-04-06T16:03:53.481263",
     "status": "completed"
    },
    "tags": []
   },
   "source": [
    "# **IPL DATA PRE-PROCESSING**"
   ]
  },
  {
   "cell_type": "markdown",
   "id": "29d55b55",
   "metadata": {
    "papermill": {
     "duration": 0.016584,
     "end_time": "2023-04-06T16:03:53.533184",
     "exception": false,
     "start_time": "2023-04-06T16:03:53.516600",
     "status": "completed"
    },
    "tags": []
   },
   "source": [
    "# What is IPL?"
   ]
  },
  {
   "cell_type": "markdown",
   "id": "5e0823b5",
   "metadata": {
    "papermill": {
     "duration": 0.016403,
     "end_time": "2023-04-06T16:03:53.566262",
     "exception": false,
     "start_time": "2023-04-06T16:03:53.549859",
     "status": "completed"
    },
    "tags": []
   },
   "source": [
    "* IPL (Indian Premier League) is world's richest and best T20 cricket league.\n",
    "* The league was founded by the Board of Control for Cricket in India (BCCI) in 2007.\n",
    "* This tournament started in 2008 and now has successfully completed 15 editions of the same."
   ]
  },
  {
   "cell_type": "markdown",
   "id": "81501b99",
   "metadata": {
    "papermill": {
     "duration": 0.01636,
     "end_time": "2023-04-06T16:03:53.599325",
     "exception": false,
     "start_time": "2023-04-06T16:03:53.582965",
     "status": "completed"
    },
    "tags": []
   },
   "source": [
    "# OBJECTIVES OF DATA PRE-PROCESSING"
   ]
  },
  {
   "cell_type": "markdown",
   "id": "45566434",
   "metadata": {
    "papermill": {
     "duration": 0.016465,
     "end_time": "2023-04-06T16:03:53.632754",
     "exception": false,
     "start_time": "2023-04-06T16:03:53.616289",
     "status": "completed"
    },
    "tags": []
   },
   "source": [
    "* I have taken IPL data set for analyzing and getting some precious insights.\n",
    "\n",
    "* The main idea is to transform the raw data in a useful and efficient format.\n",
    "\n",
    "Data Pre-processing has following steps:\n",
    "\n",
    "1) Data Cleaning\n",
    "2) Data Integration\n",
    "3) Data Selection\n",
    "4) Data Transformation\n",
    "5) Data Mining\n",
    "6) Evaluation\n",
    "7) Deployment\n",
    "\n",
    "* Data preprocessing transforms the data into a format that is more easily and effectively processed in data mining, machine learning and other data science tasks.\n",
    "\n",
    "* Real-world data is messy and is often created, processed and stored by a variety of humans, business processes and applications.\n",
    "\n",
    "* As a result, a data set may have some missing individual fields, may contain manual input errors, or have duplicate data or different names to describe the same thing."
   ]
  },
  {
   "cell_type": "markdown",
   "id": "ba9c200c",
   "metadata": {
    "papermill": {
     "duration": 0.016205,
     "end_time": "2023-04-06T16:03:53.797656",
     "exception": false,
     "start_time": "2023-04-06T16:03:53.781451",
     "status": "completed"
    },
    "tags": []
   },
   "source": [
    "# **EDA (EXPLORATORY DATA ANALYSIS)**"
   ]
  },
  {
   "cell_type": "code",
   "execution_count": 1,
   "id": "12a18970",
   "metadata": {
    "execution": {
     "iopub.execute_input": "2023-04-06T16:03:53.833872Z",
     "iopub.status.busy": "2023-04-06T16:03:53.832859Z",
     "iopub.status.idle": "2023-04-06T16:03:55.771796Z",
     "shell.execute_reply": "2023-04-06T16:03:55.770819Z"
    },
    "papermill": {
     "duration": 1.960456,
     "end_time": "2023-04-06T16:03:55.774610",
     "exception": false,
     "start_time": "2023-04-06T16:03:53.814154",
     "status": "completed"
    },
    "tags": []
   },
   "outputs": [],
   "source": [
    "import numpy as np\n",
    "import pandas as pd\n",
    "import matplotlib.pyplot as plt\n",
    "import seaborn as sns\n",
    "\n",
    "bbb = pd.read_csv(\"IPL_Ball-by-Ball_2008-2020[1].csv\")\n",
    "matches = pd.read_csv(\"IPL Matches 2008-2020.csv\")"
   ]
  },
  {
   "cell_type": "markdown",
   "id": "bada6fde",
   "metadata": {
    "papermill": {
     "duration": 0.016495,
     "end_time": "2023-04-06T16:03:55.808418",
     "exception": false,
     "start_time": "2023-04-06T16:03:55.791923",
     "status": "completed"
    },
    "tags": []
   },
   "source": [
    "Prior investigations on data by finding summary statistics."
   ]
  },
  {
   "cell_type": "code",
   "execution_count": 2,
   "id": "ad5d3af1",
   "metadata": {
    "execution": {
     "iopub.execute_input": "2023-04-06T16:03:55.844595Z",
     "iopub.status.busy": "2023-04-06T16:03:55.843792Z",
     "iopub.status.idle": "2023-04-06T16:03:55.872020Z",
     "shell.execute_reply": "2023-04-06T16:03:55.870816Z"
    },
    "papermill": {
     "duration": 0.049956,
     "end_time": "2023-04-06T16:03:55.875512",
     "exception": false,
     "start_time": "2023-04-06T16:03:55.825556",
     "status": "completed"
    },
    "tags": []
   },
   "outputs": [
    {
     "name": "stdout",
     "output_type": "stream",
     "text": [
      "<class 'pandas.core.frame.DataFrame'>\n",
      "RangeIndex: 816 entries, 0 to 815\n",
      "Data columns (total 17 columns):\n",
      " #   Column           Non-Null Count  Dtype  \n",
      "---  ------           --------------  -----  \n",
      " 0   id               816 non-null    int64  \n",
      " 1   city             803 non-null    object \n",
      " 2   date             816 non-null    object \n",
      " 3   player_of_match  812 non-null    object \n",
      " 4   venue            816 non-null    object \n",
      " 5   neutral_venue    816 non-null    int64  \n",
      " 6   team1            816 non-null    object \n",
      " 7   team2            816 non-null    object \n",
      " 8   toss_winner      816 non-null    object \n",
      " 9   toss_decision    816 non-null    object \n",
      " 10  winner           812 non-null    object \n",
      " 11  result           812 non-null    object \n",
      " 12  result_margin    799 non-null    float64\n",
      " 13  eliminator       812 non-null    object \n",
      " 14  method           19 non-null     object \n",
      " 15  umpire1          816 non-null    object \n",
      " 16  umpire2          816 non-null    object \n",
      "dtypes: float64(1), int64(2), object(14)\n",
      "memory usage: 108.5+ KB\n"
     ]
    }
   ],
   "source": [
    "matches.info()"
   ]
  },
  {
   "cell_type": "code",
   "execution_count": 3,
   "id": "82c265ed",
   "metadata": {
    "execution": {
     "iopub.execute_input": "2023-04-06T16:03:55.911723Z",
     "iopub.status.busy": "2023-04-06T16:03:55.910878Z",
     "iopub.status.idle": "2023-04-06T16:03:56.008963Z",
     "shell.execute_reply": "2023-04-06T16:03:56.006792Z"
    },
    "papermill": {
     "duration": 0.119564,
     "end_time": "2023-04-06T16:03:56.012119",
     "exception": false,
     "start_time": "2023-04-06T16:03:55.892555",
     "status": "completed"
    },
    "tags": []
   },
   "outputs": [
    {
     "name": "stdout",
     "output_type": "stream",
     "text": [
      "<class 'pandas.core.frame.DataFrame'>\n",
      "RangeIndex: 193468 entries, 0 to 193467\n",
      "Data columns (total 18 columns):\n",
      " #   Column            Non-Null Count   Dtype \n",
      "---  ------            --------------   ----- \n",
      " 0   id                193468 non-null  int64 \n",
      " 1   inning            193468 non-null  int64 \n",
      " 2   over              193468 non-null  int64 \n",
      " 3   ball              193468 non-null  int64 \n",
      " 4   batsman           193468 non-null  object\n",
      " 5   non_striker       193468 non-null  object\n",
      " 6   bowler            193468 non-null  object\n",
      " 7   batsman_runs      193468 non-null  int64 \n",
      " 8   extra_runs        193468 non-null  int64 \n",
      " 9   total_runs        193468 non-null  int64 \n",
      " 10  non_boundary      193468 non-null  int64 \n",
      " 11  is_wicket         193468 non-null  int64 \n",
      " 12  dismissal_kind    9495 non-null    object\n",
      " 13  player_dismissed  9495 non-null    object\n",
      " 14  fielder           6784 non-null    object\n",
      " 15  extras_type       10233 non-null   object\n",
      " 16  batting_team      193468 non-null  object\n",
      " 17  bowling_team      193277 non-null  object\n",
      "dtypes: int64(9), object(9)\n",
      "memory usage: 26.6+ MB\n"
     ]
    }
   ],
   "source": [
    "bbb.info()"
   ]
  },
  {
   "cell_type": "code",
   "execution_count": 4,
   "id": "4de19da4",
   "metadata": {
    "execution": {
     "iopub.execute_input": "2023-04-06T16:03:56.054884Z",
     "iopub.status.busy": "2023-04-06T16:03:56.054019Z",
     "iopub.status.idle": "2023-04-06T16:03:56.150946Z",
     "shell.execute_reply": "2023-04-06T16:03:56.149789Z"
    },
    "papermill": {
     "duration": 0.118097,
     "end_time": "2023-04-06T16:03:56.153516",
     "exception": false,
     "start_time": "2023-04-06T16:03:56.035419",
     "status": "completed"
    },
    "tags": []
   },
   "outputs": [
    {
     "data": {
      "text/html": [
       "<div>\n",
       "<style scoped>\n",
       "    .dataframe tbody tr th:only-of-type {\n",
       "        vertical-align: middle;\n",
       "    }\n",
       "\n",
       "    .dataframe tbody tr th {\n",
       "        vertical-align: top;\n",
       "    }\n",
       "\n",
       "    .dataframe thead th {\n",
       "        text-align: right;\n",
       "    }\n",
       "</style>\n",
       "<table border=\"1\" class=\"dataframe\">\n",
       "  <thead>\n",
       "    <tr style=\"text-align: right;\">\n",
       "      <th></th>\n",
       "      <th>id</th>\n",
       "      <th>inning</th>\n",
       "      <th>over</th>\n",
       "      <th>ball</th>\n",
       "      <th>batsman_runs</th>\n",
       "      <th>extra_runs</th>\n",
       "      <th>total_runs</th>\n",
       "      <th>non_boundary</th>\n",
       "      <th>is_wicket</th>\n",
       "    </tr>\n",
       "  </thead>\n",
       "  <tbody>\n",
       "    <tr>\n",
       "      <th>id</th>\n",
       "      <td>1.000000</td>\n",
       "      <td>0.000300</td>\n",
       "      <td>0.007874</td>\n",
       "      <td>-0.001956</td>\n",
       "      <td>0.028446</td>\n",
       "      <td>-0.018331</td>\n",
       "      <td>0.024763</td>\n",
       "      <td>0.000249</td>\n",
       "      <td>-0.002822</td>\n",
       "    </tr>\n",
       "    <tr>\n",
       "      <th>inning</th>\n",
       "      <td>0.000300</td>\n",
       "      <td>1.000000</td>\n",
       "      <td>-0.046512</td>\n",
       "      <td>-0.003879</td>\n",
       "      <td>-0.007301</td>\n",
       "      <td>-0.000545</td>\n",
       "      <td>-0.007472</td>\n",
       "      <td>0.001463</td>\n",
       "      <td>-0.000998</td>\n",
       "    </tr>\n",
       "    <tr>\n",
       "      <th>over</th>\n",
       "      <td>0.007874</td>\n",
       "      <td>-0.046512</td>\n",
       "      <td>1.000000</td>\n",
       "      <td>-0.006877</td>\n",
       "      <td>0.086966</td>\n",
       "      <td>-0.001303</td>\n",
       "      <td>0.087345</td>\n",
       "      <td>-0.001185</td>\n",
       "      <td>0.073788</td>\n",
       "    </tr>\n",
       "    <tr>\n",
       "      <th>ball</th>\n",
       "      <td>-0.001956</td>\n",
       "      <td>-0.003879</td>\n",
       "      <td>-0.006877</td>\n",
       "      <td>1.000000</td>\n",
       "      <td>0.007168</td>\n",
       "      <td>-0.002487</td>\n",
       "      <td>0.006693</td>\n",
       "      <td>-0.002156</td>\n",
       "      <td>0.004573</td>\n",
       "    </tr>\n",
       "    <tr>\n",
       "      <th>batsman_runs</th>\n",
       "      <td>0.028446</td>\n",
       "      <td>-0.007301</td>\n",
       "      <td>0.086966</td>\n",
       "      <td>0.007168</td>\n",
       "      <td>1.000000</td>\n",
       "      <td>-0.140883</td>\n",
       "      <td>0.977587</td>\n",
       "      <td>0.019815</td>\n",
       "      <td>-0.170038</td>\n",
       "    </tr>\n",
       "    <tr>\n",
       "      <th>extra_runs</th>\n",
       "      <td>-0.018331</td>\n",
       "      <td>-0.000545</td>\n",
       "      <td>-0.001303</td>\n",
       "      <td>-0.002487</td>\n",
       "      <td>-0.140883</td>\n",
       "      <td>1.000000</td>\n",
       "      <td>0.070707</td>\n",
       "      <td>-0.001777</td>\n",
       "      <td>-0.041352</td>\n",
       "    </tr>\n",
       "    <tr>\n",
       "      <th>total_runs</th>\n",
       "      <td>0.024763</td>\n",
       "      <td>-0.007472</td>\n",
       "      <td>0.087345</td>\n",
       "      <td>0.006693</td>\n",
       "      <td>0.977587</td>\n",
       "      <td>0.070707</td>\n",
       "      <td>1.000000</td>\n",
       "      <td>0.019587</td>\n",
       "      <td>-0.180115</td>\n",
       "    </tr>\n",
       "    <tr>\n",
       "      <th>non_boundary</th>\n",
       "      <td>0.000249</td>\n",
       "      <td>0.001463</td>\n",
       "      <td>-0.001185</td>\n",
       "      <td>-0.002156</td>\n",
       "      <td>0.019815</td>\n",
       "      <td>-0.001777</td>\n",
       "      <td>0.019587</td>\n",
       "      <td>1.000000</td>\n",
       "      <td>-0.002066</td>\n",
       "    </tr>\n",
       "    <tr>\n",
       "      <th>is_wicket</th>\n",
       "      <td>-0.002822</td>\n",
       "      <td>-0.000998</td>\n",
       "      <td>0.073788</td>\n",
       "      <td>0.004573</td>\n",
       "      <td>-0.170038</td>\n",
       "      <td>-0.041352</td>\n",
       "      <td>-0.180115</td>\n",
       "      <td>-0.002066</td>\n",
       "      <td>1.000000</td>\n",
       "    </tr>\n",
       "  </tbody>\n",
       "</table>\n",
       "</div>"
      ],
      "text/plain": [
       "                    id    inning      over      ball  batsman_runs  \\\n",
       "id            1.000000  0.000300  0.007874 -0.001956      0.028446   \n",
       "inning        0.000300  1.000000 -0.046512 -0.003879     -0.007301   \n",
       "over          0.007874 -0.046512  1.000000 -0.006877      0.086966   \n",
       "ball         -0.001956 -0.003879 -0.006877  1.000000      0.007168   \n",
       "batsman_runs  0.028446 -0.007301  0.086966  0.007168      1.000000   \n",
       "extra_runs   -0.018331 -0.000545 -0.001303 -0.002487     -0.140883   \n",
       "total_runs    0.024763 -0.007472  0.087345  0.006693      0.977587   \n",
       "non_boundary  0.000249  0.001463 -0.001185 -0.002156      0.019815   \n",
       "is_wicket    -0.002822 -0.000998  0.073788  0.004573     -0.170038   \n",
       "\n",
       "              extra_runs  total_runs  non_boundary  is_wicket  \n",
       "id             -0.018331    0.024763      0.000249  -0.002822  \n",
       "inning         -0.000545   -0.007472      0.001463  -0.000998  \n",
       "over           -0.001303    0.087345     -0.001185   0.073788  \n",
       "ball           -0.002487    0.006693     -0.002156   0.004573  \n",
       "batsman_runs   -0.140883    0.977587      0.019815  -0.170038  \n",
       "extra_runs      1.000000    0.070707     -0.001777  -0.041352  \n",
       "total_runs      0.070707    1.000000      0.019587  -0.180115  \n",
       "non_boundary   -0.001777    0.019587      1.000000  -0.002066  \n",
       "is_wicket      -0.041352   -0.180115     -0.002066   1.000000  "
      ]
     },
     "execution_count": 4,
     "metadata": {},
     "output_type": "execute_result"
    }
   ],
   "source": [
    "bbb.corr()"
   ]
  },
  {
   "cell_type": "markdown",
   "id": "f01a2437",
   "metadata": {
    "papermill": {
     "duration": 0.017047,
     "end_time": "2023-04-06T16:03:56.188541",
     "exception": false,
     "start_time": "2023-04-06T16:03:56.171494",
     "status": "completed"
    },
    "tags": []
   },
   "source": [
    "# **DATA PRE-PROCESSING**"
   ]
  },
  {
   "cell_type": "code",
   "execution_count": 5,
   "id": "e0fa89f8",
   "metadata": {
    "execution": {
     "iopub.execute_input": "2023-04-06T16:03:56.224981Z",
     "iopub.status.busy": "2023-04-06T16:03:56.224583Z",
     "iopub.status.idle": "2023-04-06T16:03:56.230110Z",
     "shell.execute_reply": "2023-04-06T16:03:56.229004Z"
    },
    "papermill": {
     "duration": 0.026825,
     "end_time": "2023-04-06T16:03:56.232542",
     "exception": false,
     "start_time": "2023-04-06T16:03:56.205717",
     "status": "completed"
    },
    "tags": []
   },
   "outputs": [],
   "source": [
    "import numpy as np\n",
    "import pandas as pd\n",
    "import matplotlib.pyplot as plt\n",
    "import seaborn as sns"
   ]
  },
  {
   "cell_type": "code",
   "execution_count": 7,
   "id": "66532c94",
   "metadata": {
    "execution": {
     "iopub.execute_input": "2023-04-06T16:03:56.718531Z",
     "iopub.status.busy": "2023-04-06T16:03:56.718122Z",
     "iopub.status.idle": "2023-04-06T16:03:56.743197Z",
     "shell.execute_reply": "2023-04-06T16:03:56.742164Z"
    },
    "papermill": {
     "duration": 0.046092,
     "end_time": "2023-04-06T16:03:56.745524",
     "exception": false,
     "start_time": "2023-04-06T16:03:56.699432",
     "status": "completed"
    },
    "tags": []
   },
   "outputs": [
    {
     "data": {
      "text/html": [
       "<div>\n",
       "<style scoped>\n",
       "    .dataframe tbody tr th:only-of-type {\n",
       "        vertical-align: middle;\n",
       "    }\n",
       "\n",
       "    .dataframe tbody tr th {\n",
       "        vertical-align: top;\n",
       "    }\n",
       "\n",
       "    .dataframe thead th {\n",
       "        text-align: right;\n",
       "    }\n",
       "</style>\n",
       "<table border=\"1\" class=\"dataframe\">\n",
       "  <thead>\n",
       "    <tr style=\"text-align: right;\">\n",
       "      <th></th>\n",
       "      <th>id</th>\n",
       "      <th>inning</th>\n",
       "      <th>over</th>\n",
       "      <th>ball</th>\n",
       "      <th>batsman</th>\n",
       "      <th>non_striker</th>\n",
       "      <th>bowler</th>\n",
       "      <th>batsman_runs</th>\n",
       "      <th>extra_runs</th>\n",
       "      <th>total_runs</th>\n",
       "      <th>non_boundary</th>\n",
       "      <th>is_wicket</th>\n",
       "      <th>dismissal_kind</th>\n",
       "      <th>player_dismissed</th>\n",
       "      <th>fielder</th>\n",
       "      <th>extras_type</th>\n",
       "      <th>batting_team</th>\n",
       "      <th>bowling_team</th>\n",
       "    </tr>\n",
       "  </thead>\n",
       "  <tbody>\n",
       "    <tr>\n",
       "      <th>0</th>\n",
       "      <td>335982</td>\n",
       "      <td>1</td>\n",
       "      <td>6</td>\n",
       "      <td>5</td>\n",
       "      <td>RT Ponting</td>\n",
       "      <td>BB McCullum</td>\n",
       "      <td>AA Noffke</td>\n",
       "      <td>1</td>\n",
       "      <td>0</td>\n",
       "      <td>1</td>\n",
       "      <td>0</td>\n",
       "      <td>0</td>\n",
       "      <td>NaN</td>\n",
       "      <td>NaN</td>\n",
       "      <td>NaN</td>\n",
       "      <td>NaN</td>\n",
       "      <td>Kolkata Knight Riders</td>\n",
       "      <td>Royal Challengers Bangalore</td>\n",
       "    </tr>\n",
       "    <tr>\n",
       "      <th>1</th>\n",
       "      <td>335982</td>\n",
       "      <td>1</td>\n",
       "      <td>6</td>\n",
       "      <td>6</td>\n",
       "      <td>BB McCullum</td>\n",
       "      <td>RT Ponting</td>\n",
       "      <td>AA Noffke</td>\n",
       "      <td>1</td>\n",
       "      <td>0</td>\n",
       "      <td>1</td>\n",
       "      <td>0</td>\n",
       "      <td>0</td>\n",
       "      <td>NaN</td>\n",
       "      <td>NaN</td>\n",
       "      <td>NaN</td>\n",
       "      <td>NaN</td>\n",
       "      <td>Kolkata Knight Riders</td>\n",
       "      <td>Royal Challengers Bangalore</td>\n",
       "    </tr>\n",
       "    <tr>\n",
       "      <th>2</th>\n",
       "      <td>335982</td>\n",
       "      <td>1</td>\n",
       "      <td>7</td>\n",
       "      <td>1</td>\n",
       "      <td>BB McCullum</td>\n",
       "      <td>RT Ponting</td>\n",
       "      <td>Z Khan</td>\n",
       "      <td>0</td>\n",
       "      <td>0</td>\n",
       "      <td>0</td>\n",
       "      <td>0</td>\n",
       "      <td>0</td>\n",
       "      <td>NaN</td>\n",
       "      <td>NaN</td>\n",
       "      <td>NaN</td>\n",
       "      <td>NaN</td>\n",
       "      <td>Kolkata Knight Riders</td>\n",
       "      <td>Royal Challengers Bangalore</td>\n",
       "    </tr>\n",
       "    <tr>\n",
       "      <th>3</th>\n",
       "      <td>335982</td>\n",
       "      <td>1</td>\n",
       "      <td>7</td>\n",
       "      <td>2</td>\n",
       "      <td>BB McCullum</td>\n",
       "      <td>RT Ponting</td>\n",
       "      <td>Z Khan</td>\n",
       "      <td>1</td>\n",
       "      <td>0</td>\n",
       "      <td>1</td>\n",
       "      <td>0</td>\n",
       "      <td>0</td>\n",
       "      <td>NaN</td>\n",
       "      <td>NaN</td>\n",
       "      <td>NaN</td>\n",
       "      <td>NaN</td>\n",
       "      <td>Kolkata Knight Riders</td>\n",
       "      <td>Royal Challengers Bangalore</td>\n",
       "    </tr>\n",
       "    <tr>\n",
       "      <th>4</th>\n",
       "      <td>335982</td>\n",
       "      <td>1</td>\n",
       "      <td>7</td>\n",
       "      <td>3</td>\n",
       "      <td>RT Ponting</td>\n",
       "      <td>BB McCullum</td>\n",
       "      <td>Z Khan</td>\n",
       "      <td>1</td>\n",
       "      <td>0</td>\n",
       "      <td>1</td>\n",
       "      <td>0</td>\n",
       "      <td>0</td>\n",
       "      <td>NaN</td>\n",
       "      <td>NaN</td>\n",
       "      <td>NaN</td>\n",
       "      <td>NaN</td>\n",
       "      <td>Kolkata Knight Riders</td>\n",
       "      <td>Royal Challengers Bangalore</td>\n",
       "    </tr>\n",
       "    <tr>\n",
       "      <th>...</th>\n",
       "      <td>...</td>\n",
       "      <td>...</td>\n",
       "      <td>...</td>\n",
       "      <td>...</td>\n",
       "      <td>...</td>\n",
       "      <td>...</td>\n",
       "      <td>...</td>\n",
       "      <td>...</td>\n",
       "      <td>...</td>\n",
       "      <td>...</td>\n",
       "      <td>...</td>\n",
       "      <td>...</td>\n",
       "      <td>...</td>\n",
       "      <td>...</td>\n",
       "      <td>...</td>\n",
       "      <td>...</td>\n",
       "      <td>...</td>\n",
       "      <td>...</td>\n",
       "    </tr>\n",
       "    <tr>\n",
       "      <th>193463</th>\n",
       "      <td>1237181</td>\n",
       "      <td>1</td>\n",
       "      <td>12</td>\n",
       "      <td>5</td>\n",
       "      <td>RR Pant</td>\n",
       "      <td>SS Iyer</td>\n",
       "      <td>NM Coulter-Nile</td>\n",
       "      <td>0</td>\n",
       "      <td>0</td>\n",
       "      <td>0</td>\n",
       "      <td>0</td>\n",
       "      <td>0</td>\n",
       "      <td>NaN</td>\n",
       "      <td>NaN</td>\n",
       "      <td>NaN</td>\n",
       "      <td>NaN</td>\n",
       "      <td>Delhi Capitals</td>\n",
       "      <td>Mumbai Indians</td>\n",
       "    </tr>\n",
       "    <tr>\n",
       "      <th>193464</th>\n",
       "      <td>1237181</td>\n",
       "      <td>1</td>\n",
       "      <td>12</td>\n",
       "      <td>6</td>\n",
       "      <td>RR Pant</td>\n",
       "      <td>SS Iyer</td>\n",
       "      <td>NM Coulter-Nile</td>\n",
       "      <td>1</td>\n",
       "      <td>0</td>\n",
       "      <td>1</td>\n",
       "      <td>0</td>\n",
       "      <td>0</td>\n",
       "      <td>NaN</td>\n",
       "      <td>NaN</td>\n",
       "      <td>NaN</td>\n",
       "      <td>NaN</td>\n",
       "      <td>Delhi Capitals</td>\n",
       "      <td>Mumbai Indians</td>\n",
       "    </tr>\n",
       "    <tr>\n",
       "      <th>193465</th>\n",
       "      <td>1237181</td>\n",
       "      <td>1</td>\n",
       "      <td>13</td>\n",
       "      <td>1</td>\n",
       "      <td>RR Pant</td>\n",
       "      <td>SS Iyer</td>\n",
       "      <td>KH Pandya</td>\n",
       "      <td>0</td>\n",
       "      <td>1</td>\n",
       "      <td>1</td>\n",
       "      <td>0</td>\n",
       "      <td>0</td>\n",
       "      <td>NaN</td>\n",
       "      <td>NaN</td>\n",
       "      <td>NaN</td>\n",
       "      <td>wides</td>\n",
       "      <td>Delhi Capitals</td>\n",
       "      <td>Mumbai Indians</td>\n",
       "    </tr>\n",
       "    <tr>\n",
       "      <th>193466</th>\n",
       "      <td>1237181</td>\n",
       "      <td>1</td>\n",
       "      <td>13</td>\n",
       "      <td>2</td>\n",
       "      <td>RR Pant</td>\n",
       "      <td>SS Iyer</td>\n",
       "      <td>KH Pandya</td>\n",
       "      <td>1</td>\n",
       "      <td>0</td>\n",
       "      <td>1</td>\n",
       "      <td>0</td>\n",
       "      <td>0</td>\n",
       "      <td>NaN</td>\n",
       "      <td>NaN</td>\n",
       "      <td>NaN</td>\n",
       "      <td>NaN</td>\n",
       "      <td>Delhi Capitals</td>\n",
       "      <td>Mumbai Indians</td>\n",
       "    </tr>\n",
       "    <tr>\n",
       "      <th>193467</th>\n",
       "      <td>1237181</td>\n",
       "      <td>1</td>\n",
       "      <td>13</td>\n",
       "      <td>3</td>\n",
       "      <td>SS Iyer</td>\n",
       "      <td>RR Pant</td>\n",
       "      <td>KH Pandya</td>\n",
       "      <td>1</td>\n",
       "      <td>0</td>\n",
       "      <td>1</td>\n",
       "      <td>0</td>\n",
       "      <td>0</td>\n",
       "      <td>NaN</td>\n",
       "      <td>NaN</td>\n",
       "      <td>NaN</td>\n",
       "      <td>NaN</td>\n",
       "      <td>Delhi Capitals</td>\n",
       "      <td>Mumbai Indians</td>\n",
       "    </tr>\n",
       "  </tbody>\n",
       "</table>\n",
       "<p>193468 rows × 18 columns</p>\n",
       "</div>"
      ],
      "text/plain": [
       "             id  inning  over  ball      batsman  non_striker  \\\n",
       "0        335982       1     6     5   RT Ponting  BB McCullum   \n",
       "1        335982       1     6     6  BB McCullum   RT Ponting   \n",
       "2        335982       1     7     1  BB McCullum   RT Ponting   \n",
       "3        335982       1     7     2  BB McCullum   RT Ponting   \n",
       "4        335982       1     7     3   RT Ponting  BB McCullum   \n",
       "...         ...     ...   ...   ...          ...          ...   \n",
       "193463  1237181       1    12     5      RR Pant      SS Iyer   \n",
       "193464  1237181       1    12     6      RR Pant      SS Iyer   \n",
       "193465  1237181       1    13     1      RR Pant      SS Iyer   \n",
       "193466  1237181       1    13     2      RR Pant      SS Iyer   \n",
       "193467  1237181       1    13     3      SS Iyer      RR Pant   \n",
       "\n",
       "                 bowler  batsman_runs  extra_runs  total_runs  non_boundary  \\\n",
       "0             AA Noffke             1           0           1             0   \n",
       "1             AA Noffke             1           0           1             0   \n",
       "2                Z Khan             0           0           0             0   \n",
       "3                Z Khan             1           0           1             0   \n",
       "4                Z Khan             1           0           1             0   \n",
       "...                 ...           ...         ...         ...           ...   \n",
       "193463  NM Coulter-Nile             0           0           0             0   \n",
       "193464  NM Coulter-Nile             1           0           1             0   \n",
       "193465        KH Pandya             0           1           1             0   \n",
       "193466        KH Pandya             1           0           1             0   \n",
       "193467        KH Pandya             1           0           1             0   \n",
       "\n",
       "        is_wicket dismissal_kind player_dismissed fielder extras_type  \\\n",
       "0               0            NaN              NaN     NaN         NaN   \n",
       "1               0            NaN              NaN     NaN         NaN   \n",
       "2               0            NaN              NaN     NaN         NaN   \n",
       "3               0            NaN              NaN     NaN         NaN   \n",
       "4               0            NaN              NaN     NaN         NaN   \n",
       "...           ...            ...              ...     ...         ...   \n",
       "193463          0            NaN              NaN     NaN         NaN   \n",
       "193464          0            NaN              NaN     NaN         NaN   \n",
       "193465          0            NaN              NaN     NaN       wides   \n",
       "193466          0            NaN              NaN     NaN         NaN   \n",
       "193467          0            NaN              NaN     NaN         NaN   \n",
       "\n",
       "                 batting_team                 bowling_team  \n",
       "0       Kolkata Knight Riders  Royal Challengers Bangalore  \n",
       "1       Kolkata Knight Riders  Royal Challengers Bangalore  \n",
       "2       Kolkata Knight Riders  Royal Challengers Bangalore  \n",
       "3       Kolkata Knight Riders  Royal Challengers Bangalore  \n",
       "4       Kolkata Knight Riders  Royal Challengers Bangalore  \n",
       "...                       ...                          ...  \n",
       "193463         Delhi Capitals               Mumbai Indians  \n",
       "193464         Delhi Capitals               Mumbai Indians  \n",
       "193465         Delhi Capitals               Mumbai Indians  \n",
       "193466         Delhi Capitals               Mumbai Indians  \n",
       "193467         Delhi Capitals               Mumbai Indians  \n",
       "\n",
       "[193468 rows x 18 columns]"
      ]
     },
     "execution_count": 7,
     "metadata": {},
     "output_type": "execute_result"
    }
   ],
   "source": [
    "bbb"
   ]
  },
  {
   "cell_type": "code",
   "execution_count": 8,
   "id": "86950ab4",
   "metadata": {
    "execution": {
     "iopub.execute_input": "2023-04-06T16:03:56.784183Z",
     "iopub.status.busy": "2023-04-06T16:03:56.783209Z",
     "iopub.status.idle": "2023-04-06T16:03:56.811612Z",
     "shell.execute_reply": "2023-04-06T16:03:56.810436Z"
    },
    "papermill": {
     "duration": 0.050433,
     "end_time": "2023-04-06T16:03:56.814106",
     "exception": false,
     "start_time": "2023-04-06T16:03:56.763673",
     "status": "completed"
    },
    "tags": []
   },
   "outputs": [
    {
     "data": {
      "text/html": [
       "<div>\n",
       "<style scoped>\n",
       "    .dataframe tbody tr th:only-of-type {\n",
       "        vertical-align: middle;\n",
       "    }\n",
       "\n",
       "    .dataframe tbody tr th {\n",
       "        vertical-align: top;\n",
       "    }\n",
       "\n",
       "    .dataframe thead th {\n",
       "        text-align: right;\n",
       "    }\n",
       "</style>\n",
       "<table border=\"1\" class=\"dataframe\">\n",
       "  <thead>\n",
       "    <tr style=\"text-align: right;\">\n",
       "      <th></th>\n",
       "      <th>id</th>\n",
       "      <th>city</th>\n",
       "      <th>date</th>\n",
       "      <th>player_of_match</th>\n",
       "      <th>venue</th>\n",
       "      <th>neutral_venue</th>\n",
       "      <th>team1</th>\n",
       "      <th>team2</th>\n",
       "      <th>toss_winner</th>\n",
       "      <th>toss_decision</th>\n",
       "      <th>winner</th>\n",
       "      <th>result</th>\n",
       "      <th>result_margin</th>\n",
       "      <th>eliminator</th>\n",
       "      <th>method</th>\n",
       "      <th>umpire1</th>\n",
       "      <th>umpire2</th>\n",
       "    </tr>\n",
       "  </thead>\n",
       "  <tbody>\n",
       "    <tr>\n",
       "      <th>0</th>\n",
       "      <td>335982</td>\n",
       "      <td>Bangalore</td>\n",
       "      <td>2008-04-18</td>\n",
       "      <td>BB McCullum</td>\n",
       "      <td>M Chinnaswamy Stadium</td>\n",
       "      <td>0</td>\n",
       "      <td>Royal Challengers Bangalore</td>\n",
       "      <td>Kolkata Knight Riders</td>\n",
       "      <td>Royal Challengers Bangalore</td>\n",
       "      <td>field</td>\n",
       "      <td>Kolkata Knight Riders</td>\n",
       "      <td>runs</td>\n",
       "      <td>140.0</td>\n",
       "      <td>N</td>\n",
       "      <td>NaN</td>\n",
       "      <td>Asad Rauf</td>\n",
       "      <td>RE Koertzen</td>\n",
       "    </tr>\n",
       "    <tr>\n",
       "      <th>1</th>\n",
       "      <td>335983</td>\n",
       "      <td>Chandigarh</td>\n",
       "      <td>2008-04-19</td>\n",
       "      <td>MEK Hussey</td>\n",
       "      <td>Punjab Cricket Association Stadium, Mohali</td>\n",
       "      <td>0</td>\n",
       "      <td>Kings XI Punjab</td>\n",
       "      <td>Chennai Super Kings</td>\n",
       "      <td>Chennai Super Kings</td>\n",
       "      <td>bat</td>\n",
       "      <td>Chennai Super Kings</td>\n",
       "      <td>runs</td>\n",
       "      <td>33.0</td>\n",
       "      <td>N</td>\n",
       "      <td>NaN</td>\n",
       "      <td>MR Benson</td>\n",
       "      <td>SL Shastri</td>\n",
       "    </tr>\n",
       "    <tr>\n",
       "      <th>2</th>\n",
       "      <td>335984</td>\n",
       "      <td>Delhi</td>\n",
       "      <td>2008-04-19</td>\n",
       "      <td>MF Maharoof</td>\n",
       "      <td>Feroz Shah Kotla</td>\n",
       "      <td>0</td>\n",
       "      <td>Delhi Daredevils</td>\n",
       "      <td>Rajasthan Royals</td>\n",
       "      <td>Rajasthan Royals</td>\n",
       "      <td>bat</td>\n",
       "      <td>Delhi Daredevils</td>\n",
       "      <td>wickets</td>\n",
       "      <td>9.0</td>\n",
       "      <td>N</td>\n",
       "      <td>NaN</td>\n",
       "      <td>Aleem Dar</td>\n",
       "      <td>GA Pratapkumar</td>\n",
       "    </tr>\n",
       "    <tr>\n",
       "      <th>3</th>\n",
       "      <td>335985</td>\n",
       "      <td>Mumbai</td>\n",
       "      <td>2008-04-20</td>\n",
       "      <td>MV Boucher</td>\n",
       "      <td>Wankhede Stadium</td>\n",
       "      <td>0</td>\n",
       "      <td>Mumbai Indians</td>\n",
       "      <td>Royal Challengers Bangalore</td>\n",
       "      <td>Mumbai Indians</td>\n",
       "      <td>bat</td>\n",
       "      <td>Royal Challengers Bangalore</td>\n",
       "      <td>wickets</td>\n",
       "      <td>5.0</td>\n",
       "      <td>N</td>\n",
       "      <td>NaN</td>\n",
       "      <td>SJ Davis</td>\n",
       "      <td>DJ Harper</td>\n",
       "    </tr>\n",
       "    <tr>\n",
       "      <th>4</th>\n",
       "      <td>335986</td>\n",
       "      <td>Kolkata</td>\n",
       "      <td>2008-04-20</td>\n",
       "      <td>DJ Hussey</td>\n",
       "      <td>Eden Gardens</td>\n",
       "      <td>0</td>\n",
       "      <td>Kolkata Knight Riders</td>\n",
       "      <td>Deccan Chargers</td>\n",
       "      <td>Deccan Chargers</td>\n",
       "      <td>bat</td>\n",
       "      <td>Kolkata Knight Riders</td>\n",
       "      <td>wickets</td>\n",
       "      <td>5.0</td>\n",
       "      <td>N</td>\n",
       "      <td>NaN</td>\n",
       "      <td>BF Bowden</td>\n",
       "      <td>K Hariharan</td>\n",
       "    </tr>\n",
       "    <tr>\n",
       "      <th>...</th>\n",
       "      <td>...</td>\n",
       "      <td>...</td>\n",
       "      <td>...</td>\n",
       "      <td>...</td>\n",
       "      <td>...</td>\n",
       "      <td>...</td>\n",
       "      <td>...</td>\n",
       "      <td>...</td>\n",
       "      <td>...</td>\n",
       "      <td>...</td>\n",
       "      <td>...</td>\n",
       "      <td>...</td>\n",
       "      <td>...</td>\n",
       "      <td>...</td>\n",
       "      <td>...</td>\n",
       "      <td>...</td>\n",
       "      <td>...</td>\n",
       "    </tr>\n",
       "    <tr>\n",
       "      <th>811</th>\n",
       "      <td>1216547</td>\n",
       "      <td>Dubai</td>\n",
       "      <td>2020-09-28</td>\n",
       "      <td>AB de Villiers</td>\n",
       "      <td>Dubai International Cricket Stadium</td>\n",
       "      <td>0</td>\n",
       "      <td>Royal Challengers Bangalore</td>\n",
       "      <td>Mumbai Indians</td>\n",
       "      <td>Mumbai Indians</td>\n",
       "      <td>field</td>\n",
       "      <td>Royal Challengers Bangalore</td>\n",
       "      <td>tie</td>\n",
       "      <td>NaN</td>\n",
       "      <td>Y</td>\n",
       "      <td>NaN</td>\n",
       "      <td>Nitin Menon</td>\n",
       "      <td>PR Reiffel</td>\n",
       "    </tr>\n",
       "    <tr>\n",
       "      <th>812</th>\n",
       "      <td>1237177</td>\n",
       "      <td>Dubai</td>\n",
       "      <td>2020-11-05</td>\n",
       "      <td>JJ Bumrah</td>\n",
       "      <td>Dubai International Cricket Stadium</td>\n",
       "      <td>0</td>\n",
       "      <td>Mumbai Indians</td>\n",
       "      <td>Delhi Capitals</td>\n",
       "      <td>Delhi Capitals</td>\n",
       "      <td>field</td>\n",
       "      <td>Mumbai Indians</td>\n",
       "      <td>runs</td>\n",
       "      <td>57.0</td>\n",
       "      <td>N</td>\n",
       "      <td>NaN</td>\n",
       "      <td>CB Gaffaney</td>\n",
       "      <td>Nitin Menon</td>\n",
       "    </tr>\n",
       "    <tr>\n",
       "      <th>813</th>\n",
       "      <td>1237178</td>\n",
       "      <td>Abu Dhabi</td>\n",
       "      <td>2020-11-06</td>\n",
       "      <td>KS Williamson</td>\n",
       "      <td>Sheikh Zayed Stadium</td>\n",
       "      <td>0</td>\n",
       "      <td>Royal Challengers Bangalore</td>\n",
       "      <td>Sunrisers Hyderabad</td>\n",
       "      <td>Sunrisers Hyderabad</td>\n",
       "      <td>field</td>\n",
       "      <td>Sunrisers Hyderabad</td>\n",
       "      <td>wickets</td>\n",
       "      <td>6.0</td>\n",
       "      <td>N</td>\n",
       "      <td>NaN</td>\n",
       "      <td>PR Reiffel</td>\n",
       "      <td>S Ravi</td>\n",
       "    </tr>\n",
       "    <tr>\n",
       "      <th>814</th>\n",
       "      <td>1237180</td>\n",
       "      <td>Abu Dhabi</td>\n",
       "      <td>2020-11-08</td>\n",
       "      <td>MP Stoinis</td>\n",
       "      <td>Sheikh Zayed Stadium</td>\n",
       "      <td>0</td>\n",
       "      <td>Delhi Capitals</td>\n",
       "      <td>Sunrisers Hyderabad</td>\n",
       "      <td>Delhi Capitals</td>\n",
       "      <td>bat</td>\n",
       "      <td>Delhi Capitals</td>\n",
       "      <td>runs</td>\n",
       "      <td>17.0</td>\n",
       "      <td>N</td>\n",
       "      <td>NaN</td>\n",
       "      <td>PR Reiffel</td>\n",
       "      <td>S Ravi</td>\n",
       "    </tr>\n",
       "    <tr>\n",
       "      <th>815</th>\n",
       "      <td>1237181</td>\n",
       "      <td>Dubai</td>\n",
       "      <td>2020-11-10</td>\n",
       "      <td>TA Boult</td>\n",
       "      <td>Dubai International Cricket Stadium</td>\n",
       "      <td>0</td>\n",
       "      <td>Delhi Capitals</td>\n",
       "      <td>Mumbai Indians</td>\n",
       "      <td>Delhi Capitals</td>\n",
       "      <td>bat</td>\n",
       "      <td>Mumbai Indians</td>\n",
       "      <td>wickets</td>\n",
       "      <td>5.0</td>\n",
       "      <td>N</td>\n",
       "      <td>NaN</td>\n",
       "      <td>CB Gaffaney</td>\n",
       "      <td>Nitin Menon</td>\n",
       "    </tr>\n",
       "  </tbody>\n",
       "</table>\n",
       "<p>816 rows × 17 columns</p>\n",
       "</div>"
      ],
      "text/plain": [
       "          id        city        date player_of_match  \\\n",
       "0     335982   Bangalore  2008-04-18     BB McCullum   \n",
       "1     335983  Chandigarh  2008-04-19      MEK Hussey   \n",
       "2     335984       Delhi  2008-04-19     MF Maharoof   \n",
       "3     335985      Mumbai  2008-04-20      MV Boucher   \n",
       "4     335986     Kolkata  2008-04-20       DJ Hussey   \n",
       "..       ...         ...         ...             ...   \n",
       "811  1216547       Dubai  2020-09-28  AB de Villiers   \n",
       "812  1237177       Dubai  2020-11-05       JJ Bumrah   \n",
       "813  1237178   Abu Dhabi  2020-11-06   KS Williamson   \n",
       "814  1237180   Abu Dhabi  2020-11-08      MP Stoinis   \n",
       "815  1237181       Dubai  2020-11-10        TA Boult   \n",
       "\n",
       "                                          venue  neutral_venue  \\\n",
       "0                         M Chinnaswamy Stadium              0   \n",
       "1    Punjab Cricket Association Stadium, Mohali              0   \n",
       "2                              Feroz Shah Kotla              0   \n",
       "3                              Wankhede Stadium              0   \n",
       "4                                  Eden Gardens              0   \n",
       "..                                          ...            ...   \n",
       "811         Dubai International Cricket Stadium              0   \n",
       "812         Dubai International Cricket Stadium              0   \n",
       "813                        Sheikh Zayed Stadium              0   \n",
       "814                        Sheikh Zayed Stadium              0   \n",
       "815         Dubai International Cricket Stadium              0   \n",
       "\n",
       "                           team1                        team2  \\\n",
       "0    Royal Challengers Bangalore        Kolkata Knight Riders   \n",
       "1                Kings XI Punjab          Chennai Super Kings   \n",
       "2               Delhi Daredevils             Rajasthan Royals   \n",
       "3                 Mumbai Indians  Royal Challengers Bangalore   \n",
       "4          Kolkata Knight Riders              Deccan Chargers   \n",
       "..                           ...                          ...   \n",
       "811  Royal Challengers Bangalore               Mumbai Indians   \n",
       "812               Mumbai Indians               Delhi Capitals   \n",
       "813  Royal Challengers Bangalore          Sunrisers Hyderabad   \n",
       "814               Delhi Capitals          Sunrisers Hyderabad   \n",
       "815               Delhi Capitals               Mumbai Indians   \n",
       "\n",
       "                     toss_winner toss_decision                       winner  \\\n",
       "0    Royal Challengers Bangalore         field        Kolkata Knight Riders   \n",
       "1            Chennai Super Kings           bat          Chennai Super Kings   \n",
       "2               Rajasthan Royals           bat             Delhi Daredevils   \n",
       "3                 Mumbai Indians           bat  Royal Challengers Bangalore   \n",
       "4                Deccan Chargers           bat        Kolkata Knight Riders   \n",
       "..                           ...           ...                          ...   \n",
       "811               Mumbai Indians         field  Royal Challengers Bangalore   \n",
       "812               Delhi Capitals         field               Mumbai Indians   \n",
       "813          Sunrisers Hyderabad         field          Sunrisers Hyderabad   \n",
       "814               Delhi Capitals           bat               Delhi Capitals   \n",
       "815               Delhi Capitals           bat               Mumbai Indians   \n",
       "\n",
       "      result  result_margin eliminator method      umpire1         umpire2  \n",
       "0       runs          140.0          N    NaN    Asad Rauf     RE Koertzen  \n",
       "1       runs           33.0          N    NaN    MR Benson      SL Shastri  \n",
       "2    wickets            9.0          N    NaN    Aleem Dar  GA Pratapkumar  \n",
       "3    wickets            5.0          N    NaN     SJ Davis       DJ Harper  \n",
       "4    wickets            5.0          N    NaN    BF Bowden     K Hariharan  \n",
       "..       ...            ...        ...    ...          ...             ...  \n",
       "811      tie            NaN          Y    NaN  Nitin Menon      PR Reiffel  \n",
       "812     runs           57.0          N    NaN  CB Gaffaney     Nitin Menon  \n",
       "813  wickets            6.0          N    NaN   PR Reiffel          S Ravi  \n",
       "814     runs           17.0          N    NaN   PR Reiffel          S Ravi  \n",
       "815  wickets            5.0          N    NaN  CB Gaffaney     Nitin Menon  \n",
       "\n",
       "[816 rows x 17 columns]"
      ]
     },
     "execution_count": 8,
     "metadata": {},
     "output_type": "execute_result"
    }
   ],
   "source": [
    "matches"
   ]
  },
  {
   "cell_type": "code",
   "execution_count": 9,
   "id": "d0db8306",
   "metadata": {
    "execution": {
     "iopub.execute_input": "2023-04-06T16:03:56.853393Z",
     "iopub.status.busy": "2023-04-06T16:03:56.852990Z",
     "iopub.status.idle": "2023-04-06T16:03:56.858541Z",
     "shell.execute_reply": "2023-04-06T16:03:56.857508Z"
    },
    "papermill": {
     "duration": 0.02849,
     "end_time": "2023-04-06T16:03:56.861190",
     "exception": false,
     "start_time": "2023-04-06T16:03:56.832700",
     "status": "completed"
    },
    "tags": []
   },
   "outputs": [
    {
     "name": "stdout",
     "output_type": "stream",
     "text": [
      "(193468, 18)\n",
      "(816, 17)\n"
     ]
    }
   ],
   "source": [
    "print(bbb.shape)\n",
    "print(matches.shape)"
   ]
  },
  {
   "cell_type": "markdown",
   "id": "b5e62663",
   "metadata": {
    "papermill": {
     "duration": 0.018551,
     "end_time": "2023-04-06T16:03:56.898515",
     "exception": false,
     "start_time": "2023-04-06T16:03:56.879964",
     "status": "completed"
    },
    "tags": []
   },
   "source": [
    "**DROPPING UNNECESSARY COLUMNS**"
   ]
  },
  {
   "cell_type": "code",
   "execution_count": 14,
   "id": "fd289cca",
   "metadata": {
    "execution": {
     "iopub.execute_input": "2023-04-06T16:03:56.937929Z",
     "iopub.status.busy": "2023-04-06T16:03:56.937226Z",
     "iopub.status.idle": "2023-04-06T16:03:56.946511Z",
     "shell.execute_reply": "2023-04-06T16:03:56.945682Z"
    },
    "papermill": {
     "duration": 0.031265,
     "end_time": "2023-04-06T16:03:56.948494",
     "exception": false,
     "start_time": "2023-04-06T16:03:56.917229",
     "status": "completed"
    },
    "tags": []
   },
   "outputs": [
    {
     "data": {
      "text/plain": [
       "id                  0.000000\n",
       "city                1.593137\n",
       "date                0.000000\n",
       "player_of_match     0.490196\n",
       "venue               0.000000\n",
       "neutral_venue       0.000000\n",
       "team1               0.000000\n",
       "team2               0.000000\n",
       "toss_winner         0.000000\n",
       "toss_decision       0.000000\n",
       "winner              0.490196\n",
       "result              0.490196\n",
       "result_margin       2.083333\n",
       "eliminator          0.490196\n",
       "method             97.671569\n",
       "umpire1             0.000000\n",
       "umpire2             0.000000\n",
       "dtype: float64"
      ]
     },
     "execution_count": 14,
     "metadata": {},
     "output_type": "execute_result"
    }
   ],
   "source": [
    "# percentage of missing values in each column.\n",
    "\n",
    "matches.isnull().mean() * 100"
   ]
  },
  {
   "cell_type": "code",
   "execution_count": 13,
   "id": "da34972a",
   "metadata": {
    "execution": {
     "iopub.execute_input": "2023-04-06T16:03:56.988141Z",
     "iopub.status.busy": "2023-04-06T16:03:56.987439Z",
     "iopub.status.idle": "2023-04-06T16:03:56.991317Z",
     "shell.execute_reply": "2023-04-06T16:03:56.990487Z"
    },
    "papermill": {
     "duration": 0.026226,
     "end_time": "2023-04-06T16:03:56.993456",
     "exception": false,
     "start_time": "2023-04-06T16:03:56.967230",
     "status": "completed"
    },
    "tags": []
   },
   "outputs": [],
   "source": [
    "# In matches dataset, there are 5 columns which are of not much use. They are\n",
    "# venue, neutral_venue, method, result and eliminator. So, I will drop them."
   ]
  },
  {
   "cell_type": "code",
   "execution_count": 16,
   "id": "a1f6a65b",
   "metadata": {
    "execution": {
     "iopub.execute_input": "2023-04-06T16:03:57.033879Z",
     "iopub.status.busy": "2023-04-06T16:03:57.033210Z",
     "iopub.status.idle": "2023-04-06T16:03:57.058190Z",
     "shell.execute_reply": "2023-04-06T16:03:57.056839Z"
    },
    "papermill": {
     "duration": 0.048125,
     "end_time": "2023-04-06T16:03:57.060755",
     "exception": false,
     "start_time": "2023-04-06T16:03:57.012630",
     "status": "completed"
    },
    "tags": []
   },
   "outputs": [
    {
     "data": {
      "text/html": [
       "<div>\n",
       "<style scoped>\n",
       "    .dataframe tbody tr th:only-of-type {\n",
       "        vertical-align: middle;\n",
       "    }\n",
       "\n",
       "    .dataframe tbody tr th {\n",
       "        vertical-align: top;\n",
       "    }\n",
       "\n",
       "    .dataframe thead th {\n",
       "        text-align: right;\n",
       "    }\n",
       "</style>\n",
       "<table border=\"1\" class=\"dataframe\">\n",
       "  <thead>\n",
       "    <tr style=\"text-align: right;\">\n",
       "      <th></th>\n",
       "      <th>id</th>\n",
       "      <th>city</th>\n",
       "      <th>date</th>\n",
       "      <th>player_of_match</th>\n",
       "      <th>team1</th>\n",
       "      <th>team2</th>\n",
       "      <th>toss_winner</th>\n",
       "      <th>toss_decision</th>\n",
       "      <th>winner</th>\n",
       "      <th>result_margin</th>\n",
       "      <th>umpire1</th>\n",
       "      <th>umpire2</th>\n",
       "    </tr>\n",
       "  </thead>\n",
       "  <tbody>\n",
       "    <tr>\n",
       "      <th>0</th>\n",
       "      <td>335982</td>\n",
       "      <td>Bangalore</td>\n",
       "      <td>2008-04-18</td>\n",
       "      <td>BB McCullum</td>\n",
       "      <td>Royal Challengers Bangalore</td>\n",
       "      <td>Kolkata Knight Riders</td>\n",
       "      <td>Royal Challengers Bangalore</td>\n",
       "      <td>field</td>\n",
       "      <td>Kolkata Knight Riders</td>\n",
       "      <td>140.0</td>\n",
       "      <td>Asad Rauf</td>\n",
       "      <td>RE Koertzen</td>\n",
       "    </tr>\n",
       "    <tr>\n",
       "      <th>1</th>\n",
       "      <td>335983</td>\n",
       "      <td>Chandigarh</td>\n",
       "      <td>2008-04-19</td>\n",
       "      <td>MEK Hussey</td>\n",
       "      <td>Kings XI Punjab</td>\n",
       "      <td>Chennai Super Kings</td>\n",
       "      <td>Chennai Super Kings</td>\n",
       "      <td>bat</td>\n",
       "      <td>Chennai Super Kings</td>\n",
       "      <td>33.0</td>\n",
       "      <td>MR Benson</td>\n",
       "      <td>SL Shastri</td>\n",
       "    </tr>\n",
       "    <tr>\n",
       "      <th>2</th>\n",
       "      <td>335984</td>\n",
       "      <td>Delhi</td>\n",
       "      <td>2008-04-19</td>\n",
       "      <td>MF Maharoof</td>\n",
       "      <td>Delhi Daredevils</td>\n",
       "      <td>Rajasthan Royals</td>\n",
       "      <td>Rajasthan Royals</td>\n",
       "      <td>bat</td>\n",
       "      <td>Delhi Daredevils</td>\n",
       "      <td>9.0</td>\n",
       "      <td>Aleem Dar</td>\n",
       "      <td>GA Pratapkumar</td>\n",
       "    </tr>\n",
       "    <tr>\n",
       "      <th>3</th>\n",
       "      <td>335985</td>\n",
       "      <td>Mumbai</td>\n",
       "      <td>2008-04-20</td>\n",
       "      <td>MV Boucher</td>\n",
       "      <td>Mumbai Indians</td>\n",
       "      <td>Royal Challengers Bangalore</td>\n",
       "      <td>Mumbai Indians</td>\n",
       "      <td>bat</td>\n",
       "      <td>Royal Challengers Bangalore</td>\n",
       "      <td>5.0</td>\n",
       "      <td>SJ Davis</td>\n",
       "      <td>DJ Harper</td>\n",
       "    </tr>\n",
       "    <tr>\n",
       "      <th>4</th>\n",
       "      <td>335986</td>\n",
       "      <td>Kolkata</td>\n",
       "      <td>2008-04-20</td>\n",
       "      <td>DJ Hussey</td>\n",
       "      <td>Kolkata Knight Riders</td>\n",
       "      <td>Deccan Chargers</td>\n",
       "      <td>Deccan Chargers</td>\n",
       "      <td>bat</td>\n",
       "      <td>Kolkata Knight Riders</td>\n",
       "      <td>5.0</td>\n",
       "      <td>BF Bowden</td>\n",
       "      <td>K Hariharan</td>\n",
       "    </tr>\n",
       "  </tbody>\n",
       "</table>\n",
       "</div>"
      ],
      "text/plain": [
       "       id        city        date player_of_match  \\\n",
       "0  335982   Bangalore  2008-04-18     BB McCullum   \n",
       "1  335983  Chandigarh  2008-04-19      MEK Hussey   \n",
       "2  335984       Delhi  2008-04-19     MF Maharoof   \n",
       "3  335985      Mumbai  2008-04-20      MV Boucher   \n",
       "4  335986     Kolkata  2008-04-20       DJ Hussey   \n",
       "\n",
       "                         team1                        team2  \\\n",
       "0  Royal Challengers Bangalore        Kolkata Knight Riders   \n",
       "1              Kings XI Punjab          Chennai Super Kings   \n",
       "2             Delhi Daredevils             Rajasthan Royals   \n",
       "3               Mumbai Indians  Royal Challengers Bangalore   \n",
       "4        Kolkata Knight Riders              Deccan Chargers   \n",
       "\n",
       "                   toss_winner toss_decision                       winner  \\\n",
       "0  Royal Challengers Bangalore         field        Kolkata Knight Riders   \n",
       "1          Chennai Super Kings           bat          Chennai Super Kings   \n",
       "2             Rajasthan Royals           bat             Delhi Daredevils   \n",
       "3               Mumbai Indians           bat  Royal Challengers Bangalore   \n",
       "4              Deccan Chargers           bat        Kolkata Knight Riders   \n",
       "\n",
       "   result_margin    umpire1         umpire2  \n",
       "0          140.0  Asad Rauf     RE Koertzen  \n",
       "1           33.0  MR Benson      SL Shastri  \n",
       "2            9.0  Aleem Dar  GA Pratapkumar  \n",
       "3            5.0   SJ Davis       DJ Harper  \n",
       "4            5.0  BF Bowden     K Hariharan  "
      ]
     },
     "execution_count": 16,
     "metadata": {},
     "output_type": "execute_result"
    }
   ],
   "source": [
    "matches1 = matches.drop([\"venue\", \"neutral_venue\", \"method\", \"result\", \"eliminator\"], axis=1)\n",
    "matches1.head()"
   ]
  },
  {
   "cell_type": "markdown",
   "id": "2f9ecea3",
   "metadata": {
    "papermill": {
     "duration": 0.019065,
     "end_time": "2023-04-06T16:03:57.099508",
     "exception": false,
     "start_time": "2023-04-06T16:03:57.080443",
     "status": "completed"
    },
    "tags": []
   },
   "source": [
    "**CHECKING THE NUMBER OF EMPTY CELLS IN EACH COLUMN**"
   ]
  },
  {
   "cell_type": "code",
   "execution_count": 17,
   "id": "f85a466b",
   "metadata": {
    "execution": {
     "iopub.execute_input": "2023-04-06T16:03:57.139530Z",
     "iopub.status.busy": "2023-04-06T16:03:57.139127Z",
     "iopub.status.idle": "2023-04-06T16:03:57.149710Z",
     "shell.execute_reply": "2023-04-06T16:03:57.148586Z"
    },
    "papermill": {
     "duration": 0.033337,
     "end_time": "2023-04-06T16:03:57.152108",
     "exception": false,
     "start_time": "2023-04-06T16:03:57.118771",
     "status": "completed"
    },
    "tags": []
   },
   "outputs": [
    {
     "data": {
      "text/plain": [
       "id                  0\n",
       "city               13\n",
       "date                0\n",
       "player_of_match     4\n",
       "team1               0\n",
       "team2               0\n",
       "toss_winner         0\n",
       "toss_decision       0\n",
       "winner              4\n",
       "result_margin      17\n",
       "umpire1             0\n",
       "umpire2             0\n",
       "dtype: int64"
      ]
     },
     "execution_count": 17,
     "metadata": {},
     "output_type": "execute_result"
    }
   ],
   "source": [
    "matches1.isnull().sum()"
   ]
  },
  {
   "cell_type": "markdown",
   "id": "4e5acd8a",
   "metadata": {
    "papermill": {
     "duration": 0.019272,
     "end_time": "2023-04-06T16:03:57.191183",
     "exception": false,
     "start_time": "2023-04-06T16:03:57.171911",
     "status": "completed"
    },
    "tags": []
   },
   "source": [
    "**FILLING THE MISSING VALUES IN THE DATASET**"
   ]
  },
  {
   "cell_type": "code",
   "execution_count": 18,
   "id": "ae165e9f",
   "metadata": {
    "execution": {
     "iopub.execute_input": "2023-04-06T16:03:57.232137Z",
     "iopub.status.busy": "2023-04-06T16:03:57.231664Z",
     "iopub.status.idle": "2023-04-06T16:03:57.236602Z",
     "shell.execute_reply": "2023-04-06T16:03:57.235508Z"
    },
    "papermill": {
     "duration": 0.028272,
     "end_time": "2023-04-06T16:03:57.238950",
     "exception": false,
     "start_time": "2023-04-06T16:03:57.210678",
     "status": "completed"
    },
    "tags": []
   },
   "outputs": [],
   "source": [
    "# Now I will fill the missing value in matches dataset, particularly in\n",
    "# the column of \"city\" only. It is so because filling other columns will not \n",
    "# give us much insights."
   ]
  },
  {
   "cell_type": "code",
   "execution_count": 20,
   "id": "79821b33",
   "metadata": {
    "execution": {
     "iopub.execute_input": "2023-04-06T16:03:57.279700Z",
     "iopub.status.busy": "2023-04-06T16:03:57.278888Z",
     "iopub.status.idle": "2023-04-06T16:03:57.303874Z",
     "shell.execute_reply": "2023-04-06T16:03:57.303090Z"
    },
    "papermill": {
     "duration": 0.047637,
     "end_time": "2023-04-06T16:03:57.305846",
     "exception": false,
     "start_time": "2023-04-06T16:03:57.258209",
     "status": "completed"
    },
    "tags": []
   },
   "outputs": [
    {
     "data": {
      "text/html": [
       "<div>\n",
       "<style scoped>\n",
       "    .dataframe tbody tr th:only-of-type {\n",
       "        vertical-align: middle;\n",
       "    }\n",
       "\n",
       "    .dataframe tbody tr th {\n",
       "        vertical-align: top;\n",
       "    }\n",
       "\n",
       "    .dataframe thead th {\n",
       "        text-align: right;\n",
       "    }\n",
       "</style>\n",
       "<table border=\"1\" class=\"dataframe\">\n",
       "  <thead>\n",
       "    <tr style=\"text-align: right;\">\n",
       "      <th></th>\n",
       "      <th>id</th>\n",
       "      <th>city</th>\n",
       "      <th>date</th>\n",
       "      <th>player_of_match</th>\n",
       "      <th>team1</th>\n",
       "      <th>team2</th>\n",
       "      <th>toss_winner</th>\n",
       "      <th>toss_decision</th>\n",
       "      <th>winner</th>\n",
       "      <th>result_margin</th>\n",
       "      <th>umpire1</th>\n",
       "      <th>umpire2</th>\n",
       "    </tr>\n",
       "  </thead>\n",
       "  <tbody>\n",
       "    <tr>\n",
       "      <th>0</th>\n",
       "      <td>335982</td>\n",
       "      <td>Bangalore</td>\n",
       "      <td>2008-04-18</td>\n",
       "      <td>BB McCullum</td>\n",
       "      <td>Royal Challengers Bangalore</td>\n",
       "      <td>Kolkata Knight Riders</td>\n",
       "      <td>Royal Challengers Bangalore</td>\n",
       "      <td>field</td>\n",
       "      <td>Kolkata Knight Riders</td>\n",
       "      <td>140.0</td>\n",
       "      <td>Asad Rauf</td>\n",
       "      <td>RE Koertzen</td>\n",
       "    </tr>\n",
       "    <tr>\n",
       "      <th>1</th>\n",
       "      <td>335983</td>\n",
       "      <td>Chandigarh</td>\n",
       "      <td>2008-04-19</td>\n",
       "      <td>MEK Hussey</td>\n",
       "      <td>Kings XI Punjab</td>\n",
       "      <td>Chennai Super Kings</td>\n",
       "      <td>Chennai Super Kings</td>\n",
       "      <td>bat</td>\n",
       "      <td>Chennai Super Kings</td>\n",
       "      <td>33.0</td>\n",
       "      <td>MR Benson</td>\n",
       "      <td>SL Shastri</td>\n",
       "    </tr>\n",
       "    <tr>\n",
       "      <th>2</th>\n",
       "      <td>335984</td>\n",
       "      <td>Delhi</td>\n",
       "      <td>2008-04-19</td>\n",
       "      <td>MF Maharoof</td>\n",
       "      <td>Delhi Daredevils</td>\n",
       "      <td>Rajasthan Royals</td>\n",
       "      <td>Rajasthan Royals</td>\n",
       "      <td>bat</td>\n",
       "      <td>Delhi Daredevils</td>\n",
       "      <td>9.0</td>\n",
       "      <td>Aleem Dar</td>\n",
       "      <td>GA Pratapkumar</td>\n",
       "    </tr>\n",
       "    <tr>\n",
       "      <th>3</th>\n",
       "      <td>335985</td>\n",
       "      <td>Mumbai</td>\n",
       "      <td>2008-04-20</td>\n",
       "      <td>MV Boucher</td>\n",
       "      <td>Mumbai Indians</td>\n",
       "      <td>Royal Challengers Bangalore</td>\n",
       "      <td>Mumbai Indians</td>\n",
       "      <td>bat</td>\n",
       "      <td>Royal Challengers Bangalore</td>\n",
       "      <td>5.0</td>\n",
       "      <td>SJ Davis</td>\n",
       "      <td>DJ Harper</td>\n",
       "    </tr>\n",
       "    <tr>\n",
       "      <th>4</th>\n",
       "      <td>335986</td>\n",
       "      <td>Kolkata</td>\n",
       "      <td>2008-04-20</td>\n",
       "      <td>DJ Hussey</td>\n",
       "      <td>Kolkata Knight Riders</td>\n",
       "      <td>Deccan Chargers</td>\n",
       "      <td>Deccan Chargers</td>\n",
       "      <td>bat</td>\n",
       "      <td>Kolkata Knight Riders</td>\n",
       "      <td>5.0</td>\n",
       "      <td>BF Bowden</td>\n",
       "      <td>K Hariharan</td>\n",
       "    </tr>\n",
       "  </tbody>\n",
       "</table>\n",
       "</div>"
      ],
      "text/plain": [
       "       id        city        date player_of_match  \\\n",
       "0  335982   Bangalore  2008-04-18     BB McCullum   \n",
       "1  335983  Chandigarh  2008-04-19      MEK Hussey   \n",
       "2  335984       Delhi  2008-04-19     MF Maharoof   \n",
       "3  335985      Mumbai  2008-04-20      MV Boucher   \n",
       "4  335986     Kolkata  2008-04-20       DJ Hussey   \n",
       "\n",
       "                         team1                        team2  \\\n",
       "0  Royal Challengers Bangalore        Kolkata Knight Riders   \n",
       "1              Kings XI Punjab          Chennai Super Kings   \n",
       "2             Delhi Daredevils             Rajasthan Royals   \n",
       "3               Mumbai Indians  Royal Challengers Bangalore   \n",
       "4        Kolkata Knight Riders              Deccan Chargers   \n",
       "\n",
       "                   toss_winner toss_decision                       winner  \\\n",
       "0  Royal Challengers Bangalore         field        Kolkata Knight Riders   \n",
       "1          Chennai Super Kings           bat          Chennai Super Kings   \n",
       "2             Rajasthan Royals           bat             Delhi Daredevils   \n",
       "3               Mumbai Indians           bat  Royal Challengers Bangalore   \n",
       "4              Deccan Chargers           bat        Kolkata Knight Riders   \n",
       "\n",
       "   result_margin    umpire1         umpire2  \n",
       "0          140.0  Asad Rauf     RE Koertzen  \n",
       "1           33.0  MR Benson      SL Shastri  \n",
       "2            9.0  Aleem Dar  GA Pratapkumar  \n",
       "3            5.0   SJ Davis       DJ Harper  \n",
       "4            5.0  BF Bowden     K Hariharan  "
      ]
     },
     "execution_count": 20,
     "metadata": {},
     "output_type": "execute_result"
    }
   ],
   "source": [
    "# Filling \"city\" column with \"Mumbai\" beacuse it is the most occuring value.\n",
    "\n",
    "matches1 = matches1.fillna({\"city\": matches1[\"city\"].mode()[0]})\n",
    "matches1.head()"
   ]
  },
  {
   "cell_type": "markdown",
   "id": "bf1f1e09",
   "metadata": {
    "papermill": {
     "duration": 0.020761,
     "end_time": "2023-04-06T16:03:57.347685",
     "exception": false,
     "start_time": "2023-04-06T16:03:57.326924",
     "status": "completed"
    },
    "tags": []
   },
   "source": [
    "As you can see, now no missing values are there in city column."
   ]
  },
  {
   "cell_type": "code",
   "execution_count": 21,
   "id": "00b5c110",
   "metadata": {
    "execution": {
     "iopub.execute_input": "2023-04-06T16:03:57.388177Z",
     "iopub.status.busy": "2023-04-06T16:03:57.387731Z",
     "iopub.status.idle": "2023-04-06T16:03:57.397952Z",
     "shell.execute_reply": "2023-04-06T16:03:57.396905Z"
    },
    "papermill": {
     "duration": 0.032994,
     "end_time": "2023-04-06T16:03:57.400128",
     "exception": false,
     "start_time": "2023-04-06T16:03:57.367134",
     "status": "completed"
    },
    "tags": []
   },
   "outputs": [
    {
     "data": {
      "text/plain": [
       "id                  0\n",
       "city                0\n",
       "date                0\n",
       "player_of_match     4\n",
       "team1               0\n",
       "team2               0\n",
       "toss_winner         0\n",
       "toss_decision       0\n",
       "winner              4\n",
       "result_margin      17\n",
       "umpire1             0\n",
       "umpire2             0\n",
       "dtype: int64"
      ]
     },
     "execution_count": 21,
     "metadata": {},
     "output_type": "execute_result"
    }
   ],
   "source": [
    "matches1.isnull().sum()"
   ]
  },
  {
   "cell_type": "code",
   "execution_count": 22,
   "id": "9ced7553",
   "metadata": {
    "execution": {
     "iopub.execute_input": "2023-04-06T16:03:57.441093Z",
     "iopub.status.busy": "2023-04-06T16:03:57.440629Z",
     "iopub.status.idle": "2023-04-06T16:03:57.467118Z",
     "shell.execute_reply": "2023-04-06T16:03:57.465959Z"
    },
    "papermill": {
     "duration": 0.049639,
     "end_time": "2023-04-06T16:03:57.469480",
     "exception": false,
     "start_time": "2023-04-06T16:03:57.419841",
     "status": "completed"
    },
    "tags": []
   },
   "outputs": [
    {
     "data": {
      "text/html": [
       "<div>\n",
       "<style scoped>\n",
       "    .dataframe tbody tr th:only-of-type {\n",
       "        vertical-align: middle;\n",
       "    }\n",
       "\n",
       "    .dataframe tbody tr th {\n",
       "        vertical-align: top;\n",
       "    }\n",
       "\n",
       "    .dataframe thead th {\n",
       "        text-align: right;\n",
       "    }\n",
       "</style>\n",
       "<table border=\"1\" class=\"dataframe\">\n",
       "  <thead>\n",
       "    <tr style=\"text-align: right;\">\n",
       "      <th></th>\n",
       "      <th>id</th>\n",
       "      <th>city</th>\n",
       "      <th>date</th>\n",
       "      <th>player_of_match</th>\n",
       "      <th>team1</th>\n",
       "      <th>team2</th>\n",
       "      <th>toss_winner</th>\n",
       "      <th>toss_decision</th>\n",
       "      <th>winner</th>\n",
       "      <th>result_margin</th>\n",
       "      <th>umpire1</th>\n",
       "      <th>umpire2</th>\n",
       "    </tr>\n",
       "  </thead>\n",
       "  <tbody>\n",
       "    <tr>\n",
       "      <th>0</th>\n",
       "      <td>335982</td>\n",
       "      <td>Bangalore</td>\n",
       "      <td>2008-04-18</td>\n",
       "      <td>BB McCullum</td>\n",
       "      <td>Royal Challengers Bangalore</td>\n",
       "      <td>Kolkata Knight Riders</td>\n",
       "      <td>Royal Challengers Bangalore</td>\n",
       "      <td>field</td>\n",
       "      <td>Kolkata Knight Riders</td>\n",
       "      <td>140.0</td>\n",
       "      <td>Asad Rauf</td>\n",
       "      <td>RE Koertzen</td>\n",
       "    </tr>\n",
       "    <tr>\n",
       "      <th>1</th>\n",
       "      <td>335983</td>\n",
       "      <td>Chandigarh</td>\n",
       "      <td>2008-04-19</td>\n",
       "      <td>MEK Hussey</td>\n",
       "      <td>Kings XI Punjab</td>\n",
       "      <td>Chennai Super Kings</td>\n",
       "      <td>Chennai Super Kings</td>\n",
       "      <td>bat</td>\n",
       "      <td>Chennai Super Kings</td>\n",
       "      <td>33.0</td>\n",
       "      <td>MR Benson</td>\n",
       "      <td>SL Shastri</td>\n",
       "    </tr>\n",
       "    <tr>\n",
       "      <th>2</th>\n",
       "      <td>335984</td>\n",
       "      <td>Delhi</td>\n",
       "      <td>2008-04-19</td>\n",
       "      <td>MF Maharoof</td>\n",
       "      <td>Delhi Daredevils</td>\n",
       "      <td>Rajasthan Royals</td>\n",
       "      <td>Rajasthan Royals</td>\n",
       "      <td>bat</td>\n",
       "      <td>Delhi Daredevils</td>\n",
       "      <td>9.0</td>\n",
       "      <td>Aleem Dar</td>\n",
       "      <td>GA Pratapkumar</td>\n",
       "    </tr>\n",
       "    <tr>\n",
       "      <th>3</th>\n",
       "      <td>335985</td>\n",
       "      <td>Mumbai</td>\n",
       "      <td>2008-04-20</td>\n",
       "      <td>MV Boucher</td>\n",
       "      <td>Mumbai Indians</td>\n",
       "      <td>Royal Challengers Bangalore</td>\n",
       "      <td>Mumbai Indians</td>\n",
       "      <td>bat</td>\n",
       "      <td>Royal Challengers Bangalore</td>\n",
       "      <td>5.0</td>\n",
       "      <td>SJ Davis</td>\n",
       "      <td>DJ Harper</td>\n",
       "    </tr>\n",
       "    <tr>\n",
       "      <th>4</th>\n",
       "      <td>335986</td>\n",
       "      <td>Kolkata</td>\n",
       "      <td>2008-04-20</td>\n",
       "      <td>DJ Hussey</td>\n",
       "      <td>Kolkata Knight Riders</td>\n",
       "      <td>Deccan Chargers</td>\n",
       "      <td>Deccan Chargers</td>\n",
       "      <td>bat</td>\n",
       "      <td>Kolkata Knight Riders</td>\n",
       "      <td>5.0</td>\n",
       "      <td>BF Bowden</td>\n",
       "      <td>K Hariharan</td>\n",
       "    </tr>\n",
       "  </tbody>\n",
       "</table>\n",
       "</div>"
      ],
      "text/plain": [
       "       id        city        date player_of_match  \\\n",
       "0  335982   Bangalore  2008-04-18     BB McCullum   \n",
       "1  335983  Chandigarh  2008-04-19      MEK Hussey   \n",
       "2  335984       Delhi  2008-04-19     MF Maharoof   \n",
       "3  335985      Mumbai  2008-04-20      MV Boucher   \n",
       "4  335986     Kolkata  2008-04-20       DJ Hussey   \n",
       "\n",
       "                         team1                        team2  \\\n",
       "0  Royal Challengers Bangalore        Kolkata Knight Riders   \n",
       "1              Kings XI Punjab          Chennai Super Kings   \n",
       "2             Delhi Daredevils             Rajasthan Royals   \n",
       "3               Mumbai Indians  Royal Challengers Bangalore   \n",
       "4        Kolkata Knight Riders              Deccan Chargers   \n",
       "\n",
       "                   toss_winner toss_decision                       winner  \\\n",
       "0  Royal Challengers Bangalore         field        Kolkata Knight Riders   \n",
       "1          Chennai Super Kings           bat          Chennai Super Kings   \n",
       "2             Rajasthan Royals           bat             Delhi Daredevils   \n",
       "3               Mumbai Indians           bat  Royal Challengers Bangalore   \n",
       "4              Deccan Chargers           bat        Kolkata Knight Riders   \n",
       "\n",
       "   result_margin    umpire1         umpire2  \n",
       "0          140.0  Asad Rauf     RE Koertzen  \n",
       "1           33.0  MR Benson      SL Shastri  \n",
       "2            9.0  Aleem Dar  GA Pratapkumar  \n",
       "3            5.0   SJ Davis       DJ Harper  \n",
       "4            5.0  BF Bowden     K Hariharan  "
      ]
     },
     "execution_count": 22,
     "metadata": {},
     "output_type": "execute_result"
    }
   ],
   "source": [
    "# dropping those 4 rows in which player of the match was not there.\n",
    "\n",
    "matches1=matches1[matches1[\"player_of_match\"].notna()]\n",
    "matches1.head()"
   ]
  },
  {
   "cell_type": "code",
   "execution_count": 23,
   "id": "6b015e3c",
   "metadata": {
    "execution": {
     "iopub.execute_input": "2023-04-06T16:03:57.510814Z",
     "iopub.status.busy": "2023-04-06T16:03:57.510364Z",
     "iopub.status.idle": "2023-04-06T16:03:57.520160Z",
     "shell.execute_reply": "2023-04-06T16:03:57.519293Z"
    },
    "papermill": {
     "duration": 0.032723,
     "end_time": "2023-04-06T16:03:57.522176",
     "exception": false,
     "start_time": "2023-04-06T16:03:57.489453",
     "status": "completed"
    },
    "tags": []
   },
   "outputs": [
    {
     "data": {
      "text/plain": [
       "id                  0\n",
       "city                0\n",
       "date                0\n",
       "player_of_match     0\n",
       "team1               0\n",
       "team2               0\n",
       "toss_winner         0\n",
       "toss_decision       0\n",
       "winner              0\n",
       "result_margin      13\n",
       "umpire1             0\n",
       "umpire2             0\n",
       "dtype: int64"
      ]
     },
     "execution_count": 23,
     "metadata": {},
     "output_type": "execute_result"
    }
   ],
   "source": [
    "matches1.isnull().sum()"
   ]
  },
  {
   "cell_type": "markdown",
   "id": "a437dc6f",
   "metadata": {
    "papermill": {
     "duration": 0.019697,
     "end_time": "2023-04-06T16:03:57.562141",
     "exception": false,
     "start_time": "2023-04-06T16:03:57.542444",
     "status": "completed"
    },
    "tags": []
   },
   "source": [
    "> We are getting 13 rows in which result_margin is null. This simply means that\n",
    "> those 13 matches were tied and went to the super over."
   ]
  },
  {
   "cell_type": "markdown",
   "id": "609fade2",
   "metadata": {
    "papermill": {
     "duration": 0.019381,
     "end_time": "2023-04-06T16:03:57.601268",
     "exception": false,
     "start_time": "2023-04-06T16:03:57.581887",
     "status": "completed"
    },
    "tags": []
   },
   "source": [
    "**OUTLIER DETECTION**"
   ]
  },
  {
   "cell_type": "code",
   "execution_count": 19,
   "id": "bfb00987",
   "metadata": {
    "execution": {
     "iopub.execute_input": "2023-04-06T16:03:57.642955Z",
     "iopub.status.busy": "2023-04-06T16:03:57.642540Z",
     "iopub.status.idle": "2023-04-06T16:03:57.658637Z",
     "shell.execute_reply": "2023-04-06T16:03:57.657293Z"
    },
    "papermill": {
     "duration": 0.039838,
     "end_time": "2023-04-06T16:03:57.661183",
     "exception": false,
     "start_time": "2023-04-06T16:03:57.621345",
     "status": "completed"
    },
    "tags": []
   },
   "outputs": [
    {
     "data": {
      "text/html": [
       "<div>\n",
       "<style scoped>\n",
       "    .dataframe tbody tr th:only-of-type {\n",
       "        vertical-align: middle;\n",
       "    }\n",
       "\n",
       "    .dataframe tbody tr th {\n",
       "        vertical-align: top;\n",
       "    }\n",
       "\n",
       "    .dataframe thead th {\n",
       "        text-align: right;\n",
       "    }\n",
       "</style>\n",
       "<table border=\"1\" class=\"dataframe\">\n",
       "  <thead>\n",
       "    <tr style=\"text-align: right;\">\n",
       "      <th></th>\n",
       "      <th>result_margin</th>\n",
       "    </tr>\n",
       "  </thead>\n",
       "  <tbody>\n",
       "    <tr>\n",
       "      <th>46</th>\n",
       "      <td>1.0</td>\n",
       "    </tr>\n",
       "    <tr>\n",
       "      <th>555</th>\n",
       "      <td>1.0</td>\n",
       "    </tr>\n",
       "    <tr>\n",
       "      <th>539</th>\n",
       "      <td>1.0</td>\n",
       "    </tr>\n",
       "    <tr>\n",
       "      <th>734</th>\n",
       "      <td>1.0</td>\n",
       "    </tr>\n",
       "    <tr>\n",
       "      <th>500</th>\n",
       "      <td>1.0</td>\n",
       "    </tr>\n",
       "    <tr>\n",
       "      <th>...</th>\n",
       "      <td>...</td>\n",
       "    </tr>\n",
       "    <tr>\n",
       "      <th>351</th>\n",
       "      <td>130.0</td>\n",
       "    </tr>\n",
       "    <tr>\n",
       "      <th>497</th>\n",
       "      <td>138.0</td>\n",
       "    </tr>\n",
       "    <tr>\n",
       "      <th>0</th>\n",
       "      <td>140.0</td>\n",
       "    </tr>\n",
       "    <tr>\n",
       "      <th>560</th>\n",
       "      <td>144.0</td>\n",
       "    </tr>\n",
       "    <tr>\n",
       "      <th>620</th>\n",
       "      <td>146.0</td>\n",
       "    </tr>\n",
       "  </tbody>\n",
       "</table>\n",
       "<p>799 rows × 1 columns</p>\n",
       "</div>"
      ],
      "text/plain": [
       "     result_margin\n",
       "46             1.0\n",
       "555            1.0\n",
       "539            1.0\n",
       "734            1.0\n",
       "500            1.0\n",
       "..             ...\n",
       "351          130.0\n",
       "497          138.0\n",
       "0            140.0\n",
       "560          144.0\n",
       "620          146.0\n",
       "\n",
       "[799 rows x 1 columns]"
      ]
     },
     "execution_count": 19,
     "metadata": {},
     "output_type": "execute_result"
    }
   ],
   "source": [
    "# Column selected is \"result_margin\".\n",
    "\n",
    "df1 = matches1.iloc[:, 9:10]\n",
    "df2=df1.dropna(axis=0)\n",
    "df3=df2.sort_values(by=\"result_margin\")\n",
    "df3"
   ]
  },
  {
   "cell_type": "code",
   "execution_count": 20,
   "id": "d3458023",
   "metadata": {
    "execution": {
     "iopub.execute_input": "2023-04-06T16:03:57.704268Z",
     "iopub.status.busy": "2023-04-06T16:03:57.703835Z",
     "iopub.status.idle": "2023-04-06T16:03:57.712513Z",
     "shell.execute_reply": "2023-04-06T16:03:57.711126Z"
    },
    "papermill": {
     "duration": 0.033341,
     "end_time": "2023-04-06T16:03:57.714998",
     "exception": false,
     "start_time": "2023-04-06T16:03:57.681657",
     "status": "completed"
    },
    "tags": []
   },
   "outputs": [
    {
     "name": "stdout",
     "output_type": "stream",
     "text": [
      "Q1 (1st quartile, 25%) is:  6.0\n",
      "Q2 (2nd quartile, 50%) is:  8.0\n",
      "Q3 (3rd quartile, 75%) is:  19.5\n"
     ]
    }
   ],
   "source": [
    "# finding quartiles.\n",
    "\n",
    "q1, q2, q3 = np.percentile(df3, [25, 50, 75])\n",
    "print(\"Q1 (1st quartile, 25%) is: \", q1)\n",
    "print(\"Q2 (2nd quartile, 50%) is: \", q2)\n",
    "print(\"Q3 (3rd quartile, 75%) is: \", q3)"
   ]
  },
  {
   "cell_type": "code",
   "execution_count": 21,
   "id": "28968c74",
   "metadata": {
    "execution": {
     "iopub.execute_input": "2023-04-06T16:03:57.757730Z",
     "iopub.status.busy": "2023-04-06T16:03:57.757327Z",
     "iopub.status.idle": "2023-04-06T16:03:57.764147Z",
     "shell.execute_reply": "2023-04-06T16:03:57.763073Z"
    },
    "papermill": {
     "duration": 0.030934,
     "end_time": "2023-04-06T16:03:57.766465",
     "exception": false,
     "start_time": "2023-04-06T16:03:57.735531",
     "status": "completed"
    },
    "tags": []
   },
   "outputs": [
    {
     "name": "stdout",
     "output_type": "stream",
     "text": [
      "Inter-Quartile range is:  13.5\n",
      "Lower limit of outliers:  -14.25\n",
      "Upper limit of outliers:  39.75\n"
     ]
    }
   ],
   "source": [
    "# Finding Inter-Quartile range (IQR) and limit of outliers.\n",
    "\n",
    "IQR = q3-q1\n",
    "print(\"Inter-Quartile range is: \", IQR)\n",
    "\n",
    "lower_limit = q1-(1.5*IQR)\n",
    "upper_limit = q3+(1.5*IQR)\n",
    "\n",
    "print(\"Lower limit of outliers: \", lower_limit)\n",
    "print(\"Upper limit of outliers: \", upper_limit)"
   ]
  },
  {
   "cell_type": "code",
   "execution_count": 22,
   "id": "1314ae21",
   "metadata": {
    "execution": {
     "iopub.execute_input": "2023-04-06T16:03:57.809899Z",
     "iopub.status.busy": "2023-04-06T16:03:57.809040Z",
     "iopub.status.idle": "2023-04-06T16:03:57.819814Z",
     "shell.execute_reply": "2023-04-06T16:03:57.818604Z"
    },
    "papermill": {
     "duration": 0.035451,
     "end_time": "2023-04-06T16:03:57.822307",
     "exception": false,
     "start_time": "2023-04-06T16:03:57.786856",
     "status": "completed"
    },
    "tags": []
   },
   "outputs": [
    {
     "data": {
      "text/plain": [
       "0      140.0\n",
       "9       66.0\n",
       "18      45.0\n",
       "37      41.0\n",
       "41      65.0\n",
       "       ...  \n",
       "794     60.0\n",
       "803     44.0\n",
       "804     82.0\n",
       "806     69.0\n",
       "812     57.0\n",
       "Name: result_margin, Length: 94, dtype: float64"
      ]
     },
     "execution_count": 22,
     "metadata": {},
     "output_type": "execute_result"
    }
   ],
   "source": [
    "# Finding upper outliers.\n",
    "# Finding lower outliers has no significance of this dataset.\n",
    "\n",
    "upper_outliers = matches1['result_margin'][matches1['result_margin'] > upper_limit]\n",
    "upper_outliers"
   ]
  },
  {
   "cell_type": "code",
   "execution_count": 23,
   "id": "4285fd5b",
   "metadata": {
    "execution": {
     "iopub.execute_input": "2023-04-06T16:03:57.865596Z",
     "iopub.status.busy": "2023-04-06T16:03:57.865194Z",
     "iopub.status.idle": "2023-04-06T16:03:57.869832Z",
     "shell.execute_reply": "2023-04-06T16:03:57.868761Z"
    },
    "papermill": {
     "duration": 0.029032,
     "end_time": "2023-04-06T16:03:57.871883",
     "exception": false,
     "start_time": "2023-04-06T16:03:57.842851",
     "status": "completed"
    },
    "tags": []
   },
   "outputs": [],
   "source": [
    "# There are 94 outliers in this dataset based on result margin column. These are\n",
    "# actually positive outliers, i.e. the significance for these outliers is -\n",
    "# These 94 matches were one-sided matches."
   ]
  },
  {
   "cell_type": "code",
   "execution_count": 24,
   "id": "daea8964",
   "metadata": {
    "execution": {
     "iopub.execute_input": "2023-04-06T16:03:57.914557Z",
     "iopub.status.busy": "2023-04-06T16:03:57.914175Z",
     "iopub.status.idle": "2023-04-06T16:03:58.117459Z",
     "shell.execute_reply": "2023-04-06T16:03:58.116179Z"
    },
    "papermill": {
     "duration": 0.227966,
     "end_time": "2023-04-06T16:03:58.120404",
     "exception": false,
     "start_time": "2023-04-06T16:03:57.892438",
     "status": "completed"
    },
    "tags": []
   },
   "outputs": [
    {
     "data": {
      "image/png": "[encoded data removed]",
      "text/plain": [
       "<Figure size 432x288 with 1 Axes>"
      ]
     },
     "metadata": {
      "needs_background": "light"
     },
     "output_type": "display_data"
    }
   ],
   "source": [
    "plt.boxplot(df3)\n",
    "plt.show()"
   ]
  },
  {
   "cell_type": "markdown",
   "id": "8440294b",
   "metadata": {
    "papermill": {
     "duration": 0.020388,
     "end_time": "2023-04-06T16:03:58.161792",
     "exception": false,
     "start_time": "2023-04-06T16:03:58.141404",
     "status": "completed"
    },
    "tags": []
   },
   "source": [
    "DATA MINING AND DATA VISUALIZATION"
   ]
  },
  {
   "cell_type": "code",
   "execution_count": 24,
   "id": "e8fee688",
   "metadata": {
    "execution": {
     "iopub.execute_input": "2023-04-06T16:03:58.205762Z",
     "iopub.status.busy": "2023-04-06T16:03:58.204561Z",
     "iopub.status.idle": "2023-04-06T16:03:58.210151Z",
     "shell.execute_reply": "2023-04-06T16:03:58.209379Z"
    },
    "papermill": {
     "duration": 0.030023,
     "end_time": "2023-04-06T16:03:58.212471",
     "exception": false,
     "start_time": "2023-04-06T16:03:58.182448",
     "status": "completed"
    },
    "tags": []
   },
   "outputs": [],
   "source": [
    "import numpy as np\n",
    "import pandas as pd\n",
    "import matplotlib.pyplot as plt\n",
    "import seaborn as sns"
   ]
  },
  {
   "cell_type": "markdown",
   "id": "6c28867d",
   "metadata": {
    "papermill": {
     "duration": 0.020517,
     "end_time": "2023-04-06T16:03:58.253921",
     "exception": false,
     "start_time": "2023-04-06T16:03:58.233404",
     "status": "completed"
    },
    "tags": []
   },
   "source": [
    "# HOW MANY TOTAL MATCHES HAS BEEN PLAYED TILL NOW IN IPL?"
   ]
  },
  {
   "cell_type": "code",
   "execution_count": 26,
   "id": "7c6bdf8f",
   "metadata": {
    "execution": {
     "iopub.execute_input": "2023-04-06T16:03:58.297205Z",
     "iopub.status.busy": "2023-04-06T16:03:58.296788Z",
     "iopub.status.idle": "2023-04-06T16:03:58.303835Z",
     "shell.execute_reply": "2023-04-06T16:03:58.302660Z"
    },
    "papermill": {
     "duration": 0.031391,
     "end_time": "2023-04-06T16:03:58.306143",
     "exception": false,
     "start_time": "2023-04-06T16:03:58.274752",
     "status": "completed"
    },
    "tags": []
   },
   "outputs": [
    {
     "data": {
      "text/plain": [
       "816"
      ]
     },
     "execution_count": 26,
     "metadata": {},
     "output_type": "execute_result"
    }
   ],
   "source": [
    "matches.shape[0]"
   ]
  },
  {
   "cell_type": "markdown",
   "id": "1b1b4b98",
   "metadata": {
    "papermill": {
     "duration": 0.021182,
     "end_time": "2023-04-06T16:03:58.348325",
     "exception": false,
     "start_time": "2023-04-06T16:03:58.327143",
     "status": "completed"
    },
    "tags": []
   },
   "source": [
    "**CONCLUSION - From IPL 2008 to 2020, a total of 816 matches has been played.**"
   ]
  },
  {
   "cell_type": "markdown",
   "id": "245b1d29",
   "metadata": {
    "papermill": {
     "duration": 0.021104,
     "end_time": "2023-04-06T16:03:58.390698",
     "exception": false,
     "start_time": "2023-04-06T16:03:58.369594",
     "status": "completed"
    },
    "tags": []
   },
   "source": [
    "# HOW MANY MATCHES ARE ENDED IN A TIE AND WENT FOR A SUPER OVER?"
   ]
  },
  {
   "cell_type": "code",
   "execution_count": 27,
   "id": "8096d035",
   "metadata": {
    "execution": {
     "iopub.execute_input": "2023-04-06T16:03:58.435127Z",
     "iopub.status.busy": "2023-04-06T16:03:58.434249Z",
     "iopub.status.idle": "2023-04-06T16:03:58.441546Z",
     "shell.execute_reply": "2023-04-06T16:03:58.440371Z"
    },
    "papermill": {
     "duration": 0.032137,
     "end_time": "2023-04-06T16:03:58.443963",
     "exception": false,
     "start_time": "2023-04-06T16:03:58.411826",
     "status": "completed"
    },
    "tags": []
   },
   "outputs": [
    {
     "data": {
      "text/plain": [
       "13"
      ]
     },
     "execution_count": 27,
     "metadata": {},
     "output_type": "execute_result"
    }
   ],
   "source": [
    "matches1[\"result_margin\"].isnull().sum()"
   ]
  },
  {
   "cell_type": "markdown",
   "id": "177e4e6d",
   "metadata": {
    "papermill": {
     "duration": 0.020771,
     "end_time": "2023-04-06T16:03:58.486558",
     "exception": false,
     "start_time": "2023-04-06T16:03:58.465787",
     "status": "completed"
    },
    "tags": []
   },
   "source": [
    "**So, 13 matches went for a super over.**"
   ]
  },
  {
   "cell_type": "markdown",
   "id": "63bfe1e1",
   "metadata": {
    "papermill": {
     "duration": 0.021435,
     "end_time": "2023-04-06T16:03:58.729142",
     "exception": false,
     "start_time": "2023-04-06T16:03:58.707707",
     "status": "completed"
    },
    "tags": []
   },
   "source": [
    "# DATA VISUALIZATION"
   ]
  },
  {
   "cell_type": "code",
   "execution_count": 30,
   "id": "67b7ae13",
   "metadata": {
    "execution": {
     "iopub.execute_input": "2023-04-06T16:03:58.774696Z",
     "iopub.status.busy": "2023-04-06T16:03:58.773963Z",
     "iopub.status.idle": "2023-04-06T16:03:59.088221Z",
     "shell.execute_reply": "2023-04-06T16:03:59.086980Z"
    },
    "papermill": {
     "duration": 0.339611,
     "end_time": "2023-04-06T16:03:59.090598",
     "exception": false,
     "start_time": "2023-04-06T16:03:58.750987",
     "status": "completed"
    },
    "tags": []
   },
   "outputs": [
    {
     "data": {
      "image/png": "[encoded data removed]",
      "text/plain": [
       "<Figure size 432x288 with 1 Axes>"
      ]
     },
     "metadata": {
      "needs_background": "light"
     },
     "output_type": "display_data"
    }
   ],
   "source": [
    "data = matches.winner.value_counts().plot(kind=\"bar\")"
   ]
  },
  {
   "cell_type": "code",
   "execution_count": 31,
   "id": "68d6793a",
   "metadata": {
    "execution": {
     "iopub.execute_input": "2023-04-06T16:03:59.135960Z",
     "iopub.status.busy": "2023-04-06T16:03:59.135563Z",
     "iopub.status.idle": "2023-04-06T16:03:59.381343Z",
     "shell.execute_reply": "2023-04-06T16:03:59.379601Z"
    },
    "papermill": {
     "duration": 0.272999,
     "end_time": "2023-04-06T16:03:59.385351",
     "exception": false,
     "start_time": "2023-04-06T16:03:59.112352",
     "status": "completed"
    },
    "tags": []
   },
   "outputs": [
    {
     "data": {
      "image/png": "[encoded data removed]",
      "text/plain": [
       "<Figure size 432x288 with 1 Axes>"
      ]
     },
     "metadata": {},
     "output_type": "display_data"
    }
   ],
   "source": [
    "data = matches.winner.value_counts().plot(kind=\"pie\")"
   ]
  },
  {
   "cell_type": "code",
   "execution_count": 32,
   "id": "d0c3bb5c",
   "metadata": {
    "execution": {
     "iopub.execute_input": "2023-04-06T16:03:59.445943Z",
     "iopub.status.busy": "2023-04-06T16:03:59.445194Z",
     "iopub.status.idle": "2023-04-06T16:03:59.677544Z",
     "shell.execute_reply": "2023-04-06T16:03:59.676304Z"
    },
    "papermill": {
     "duration": 0.259466,
     "end_time": "2023-04-06T16:03:59.680292",
     "exception": false,
     "start_time": "2023-04-06T16:03:59.420826",
     "status": "completed"
    },
    "tags": []
   },
   "outputs": [
    {
     "data": {
      "text/plain": [
       "[<matplotlib.lines.Line2D at 0x7b2374ad8790>]"
      ]
     },
     "execution_count": 32,
     "metadata": {},
     "output_type": "execute_result"
    },
    {
     "data": {
      "image/png": "[encoded data removed]",
      "text/plain": [
       "<Figure size 432x288 with 1 Axes>"
      ]
     },
     "metadata": {
      "needs_background": "light"
     },
     "output_type": "display_data"
    }
   ],
   "source": [
    "plt.plot(matches[\"result_margin\"])"
   ]
  },
  {
   "cell_type": "code",
   "execution_count": 33,
   "id": "779c9a55",
   "metadata": {
    "execution": {
     "iopub.execute_input": "2023-04-06T16:03:59.729562Z",
     "iopub.status.busy": "2023-04-06T16:03:59.729117Z",
     "iopub.status.idle": "2023-04-06T16:03:59.957835Z",
     "shell.execute_reply": "2023-04-06T16:03:59.956718Z"
    },
    "papermill": {
     "duration": 0.257058,
     "end_time": "2023-04-06T16:03:59.961193",
     "exception": false,
     "start_time": "2023-04-06T16:03:59.704135",
     "status": "completed"
    },
    "tags": []
   },
   "outputs": [
    {
     "data": {
      "text/plain": [
       "<matplotlib.collections.PathCollection at 0x7b2374a61b50>"
      ]
     },
     "execution_count": 33,
     "metadata": {},
     "output_type": "execute_result"
    },
    {
     "data": {
      "image/png": "[encoded data removed]",
      "text/plain": [
       "<Figure size 432x288 with 1 Axes>"
      ]
     },
     "metadata": {
      "needs_background": "light"
     },
     "output_type": "display_data"
    }
   ],
   "source": [
    "plt.scatter(x=matches1.result_margin, y=matches1.id)"
   ]
  },
  {
   "cell_type": "markdown",
   "id": "c490fb60",
   "metadata": {
    "papermill": {
     "duration": 0.023818,
     "end_time": "2023-04-06T16:04:00.008953",
     "exception": false,
     "start_time": "2023-04-06T16:03:59.985135",
     "status": "completed"
    },
    "tags": []
   },
   "source": [
    "# HAS TOSS WINNING HELPED IN MATCH WINNING?"
   ]
  },
  {
   "cell_type": "code",
   "execution_count": 34,
   "id": "570b2df4",
   "metadata": {
    "execution": {
     "iopub.execute_input": "2023-04-06T16:04:00.059067Z",
     "iopub.status.busy": "2023-04-06T16:04:00.058641Z",
     "iopub.status.idle": "2023-04-06T16:04:00.083706Z",
     "shell.execute_reply": "2023-04-06T16:04:00.082536Z"
    },
    "papermill": {
     "duration": 0.053501,
     "end_time": "2023-04-06T16:04:00.086063",
     "exception": false,
     "start_time": "2023-04-06T16:04:00.032562",
     "status": "completed"
    },
    "tags": []
   },
   "outputs": [
    {
     "data": {
      "text/html": [
       "<div>\n",
       "<style scoped>\n",
       "    .dataframe tbody tr th:only-of-type {\n",
       "        vertical-align: middle;\n",
       "    }\n",
       "\n",
       "    .dataframe tbody tr th {\n",
       "        vertical-align: top;\n",
       "    }\n",
       "\n",
       "    .dataframe thead th {\n",
       "        text-align: right;\n",
       "    }\n",
       "</style>\n",
       "<table border=\"1\" class=\"dataframe\">\n",
       "  <thead>\n",
       "    <tr style=\"text-align: right;\">\n",
       "      <th></th>\n",
       "      <th>id</th>\n",
       "      <th>city</th>\n",
       "      <th>date</th>\n",
       "      <th>player_of_match</th>\n",
       "      <th>team1</th>\n",
       "      <th>team2</th>\n",
       "      <th>toss_winner</th>\n",
       "      <th>toss_decision</th>\n",
       "      <th>winner</th>\n",
       "      <th>result_margin</th>\n",
       "      <th>umpire1</th>\n",
       "      <th>umpire2</th>\n",
       "    </tr>\n",
       "  </thead>\n",
       "  <tbody>\n",
       "    <tr>\n",
       "      <th>1</th>\n",
       "      <td>335983</td>\n",
       "      <td>Chandigarh</td>\n",
       "      <td>2008-04-19</td>\n",
       "      <td>MEK Hussey</td>\n",
       "      <td>Kings XI Punjab</td>\n",
       "      <td>Chennai Super Kings</td>\n",
       "      <td>Chennai Super Kings</td>\n",
       "      <td>bat</td>\n",
       "      <td>Chennai Super Kings</td>\n",
       "      <td>33.0</td>\n",
       "      <td>MR Benson</td>\n",
       "      <td>SL Shastri</td>\n",
       "    </tr>\n",
       "    <tr>\n",
       "      <th>8</th>\n",
       "      <td>335990</td>\n",
       "      <td>Hyderabad</td>\n",
       "      <td>2008-04-24</td>\n",
       "      <td>YK Pathan</td>\n",
       "      <td>Deccan Chargers</td>\n",
       "      <td>Rajasthan Royals</td>\n",
       "      <td>Rajasthan Royals</td>\n",
       "      <td>field</td>\n",
       "      <td>Rajasthan Royals</td>\n",
       "      <td>3.0</td>\n",
       "      <td>Asad Rauf</td>\n",
       "      <td>MR Benson</td>\n",
       "    </tr>\n",
       "    <tr>\n",
       "      <th>10</th>\n",
       "      <td>335992</td>\n",
       "      <td>Bangalore</td>\n",
       "      <td>2008-04-26</td>\n",
       "      <td>SR Watson</td>\n",
       "      <td>Royal Challengers Bangalore</td>\n",
       "      <td>Rajasthan Royals</td>\n",
       "      <td>Rajasthan Royals</td>\n",
       "      <td>field</td>\n",
       "      <td>Rajasthan Royals</td>\n",
       "      <td>7.0</td>\n",
       "      <td>MR Benson</td>\n",
       "      <td>IL Howell</td>\n",
       "    </tr>\n",
       "    <tr>\n",
       "      <th>12</th>\n",
       "      <td>335994</td>\n",
       "      <td>Mumbai</td>\n",
       "      <td>2008-04-27</td>\n",
       "      <td>AC Gilchrist</td>\n",
       "      <td>Mumbai Indians</td>\n",
       "      <td>Deccan Chargers</td>\n",
       "      <td>Deccan Chargers</td>\n",
       "      <td>field</td>\n",
       "      <td>Deccan Chargers</td>\n",
       "      <td>10.0</td>\n",
       "      <td>Asad Rauf</td>\n",
       "      <td>SL Shastri</td>\n",
       "    </tr>\n",
       "    <tr>\n",
       "      <th>14</th>\n",
       "      <td>335996</td>\n",
       "      <td>Bangalore</td>\n",
       "      <td>2008-04-28</td>\n",
       "      <td>MS Dhoni</td>\n",
       "      <td>Royal Challengers Bangalore</td>\n",
       "      <td>Chennai Super Kings</td>\n",
       "      <td>Chennai Super Kings</td>\n",
       "      <td>bat</td>\n",
       "      <td>Chennai Super Kings</td>\n",
       "      <td>13.0</td>\n",
       "      <td>BR Doctrove</td>\n",
       "      <td>RB Tiffin</td>\n",
       "    </tr>\n",
       "    <tr>\n",
       "      <th>...</th>\n",
       "      <td>...</td>\n",
       "      <td>...</td>\n",
       "      <td>...</td>\n",
       "      <td>...</td>\n",
       "      <td>...</td>\n",
       "      <td>...</td>\n",
       "      <td>...</td>\n",
       "      <td>...</td>\n",
       "      <td>...</td>\n",
       "      <td>...</td>\n",
       "      <td>...</td>\n",
       "      <td>...</td>\n",
       "    </tr>\n",
       "    <tr>\n",
       "      <th>804</th>\n",
       "      <td>1216540</td>\n",
       "      <td>Sharjah</td>\n",
       "      <td>2020-10-12</td>\n",
       "      <td>AB de Villiers</td>\n",
       "      <td>Royal Challengers Bangalore</td>\n",
       "      <td>Kolkata Knight Riders</td>\n",
       "      <td>Royal Challengers Bangalore</td>\n",
       "      <td>bat</td>\n",
       "      <td>Royal Challengers Bangalore</td>\n",
       "      <td>82.0</td>\n",
       "      <td>RK Illingworth</td>\n",
       "      <td>K Srinivasan</td>\n",
       "    </tr>\n",
       "    <tr>\n",
       "      <th>806</th>\n",
       "      <td>1216542</td>\n",
       "      <td>Dubai</td>\n",
       "      <td>2020-10-08</td>\n",
       "      <td>JM Bairstow</td>\n",
       "      <td>Sunrisers Hyderabad</td>\n",
       "      <td>Kings XI Punjab</td>\n",
       "      <td>Sunrisers Hyderabad</td>\n",
       "      <td>bat</td>\n",
       "      <td>Sunrisers Hyderabad</td>\n",
       "      <td>69.0</td>\n",
       "      <td>AK Chaudhary</td>\n",
       "      <td>Nitin Menon</td>\n",
       "    </tr>\n",
       "    <tr>\n",
       "      <th>807</th>\n",
       "      <td>1216543</td>\n",
       "      <td>Dubai</td>\n",
       "      <td>2020-10-14</td>\n",
       "      <td>A Nortje</td>\n",
       "      <td>Delhi Capitals</td>\n",
       "      <td>Rajasthan Royals</td>\n",
       "      <td>Delhi Capitals</td>\n",
       "      <td>bat</td>\n",
       "      <td>Delhi Capitals</td>\n",
       "      <td>13.0</td>\n",
       "      <td>AK Chaudhary</td>\n",
       "      <td>Nitin Menon</td>\n",
       "    </tr>\n",
       "    <tr>\n",
       "      <th>813</th>\n",
       "      <td>1237178</td>\n",
       "      <td>Abu Dhabi</td>\n",
       "      <td>2020-11-06</td>\n",
       "      <td>KS Williamson</td>\n",
       "      <td>Royal Challengers Bangalore</td>\n",
       "      <td>Sunrisers Hyderabad</td>\n",
       "      <td>Sunrisers Hyderabad</td>\n",
       "      <td>field</td>\n",
       "      <td>Sunrisers Hyderabad</td>\n",
       "      <td>6.0</td>\n",
       "      <td>PR Reiffel</td>\n",
       "      <td>S Ravi</td>\n",
       "    </tr>\n",
       "    <tr>\n",
       "      <th>814</th>\n",
       "      <td>1237180</td>\n",
       "      <td>Abu Dhabi</td>\n",
       "      <td>2020-11-08</td>\n",
       "      <td>MP Stoinis</td>\n",
       "      <td>Delhi Capitals</td>\n",
       "      <td>Sunrisers Hyderabad</td>\n",
       "      <td>Delhi Capitals</td>\n",
       "      <td>bat</td>\n",
       "      <td>Delhi Capitals</td>\n",
       "      <td>17.0</td>\n",
       "      <td>PR Reiffel</td>\n",
       "      <td>S Ravi</td>\n",
       "    </tr>\n",
       "  </tbody>\n",
       "</table>\n",
       "<p>418 rows × 12 columns</p>\n",
       "</div>"
      ],
      "text/plain": [
       "          id        city        date player_of_match  \\\n",
       "1     335983  Chandigarh  2008-04-19      MEK Hussey   \n",
       "8     335990   Hyderabad  2008-04-24       YK Pathan   \n",
       "10    335992   Bangalore  2008-04-26       SR Watson   \n",
       "12    335994      Mumbai  2008-04-27    AC Gilchrist   \n",
       "14    335996   Bangalore  2008-04-28        MS Dhoni   \n",
       "..       ...         ...         ...             ...   \n",
       "804  1216540     Sharjah  2020-10-12  AB de Villiers   \n",
       "806  1216542       Dubai  2020-10-08     JM Bairstow   \n",
       "807  1216543       Dubai  2020-10-14        A Nortje   \n",
       "813  1237178   Abu Dhabi  2020-11-06   KS Williamson   \n",
       "814  1237180   Abu Dhabi  2020-11-08      MP Stoinis   \n",
       "\n",
       "                           team1                  team2  \\\n",
       "1                Kings XI Punjab    Chennai Super Kings   \n",
       "8                Deccan Chargers       Rajasthan Royals   \n",
       "10   Royal Challengers Bangalore       Rajasthan Royals   \n",
       "12                Mumbai Indians        Deccan Chargers   \n",
       "14   Royal Challengers Bangalore    Chennai Super Kings   \n",
       "..                           ...                    ...   \n",
       "804  Royal Challengers Bangalore  Kolkata Knight Riders   \n",
       "806          Sunrisers Hyderabad        Kings XI Punjab   \n",
       "807               Delhi Capitals       Rajasthan Royals   \n",
       "813  Royal Challengers Bangalore    Sunrisers Hyderabad   \n",
       "814               Delhi Capitals    Sunrisers Hyderabad   \n",
       "\n",
       "                     toss_winner toss_decision                       winner  \\\n",
       "1            Chennai Super Kings           bat          Chennai Super Kings   \n",
       "8               Rajasthan Royals         field             Rajasthan Royals   \n",
       "10              Rajasthan Royals         field             Rajasthan Royals   \n",
       "12               Deccan Chargers         field              Deccan Chargers   \n",
       "14           Chennai Super Kings           bat          Chennai Super Kings   \n",
       "..                           ...           ...                          ...   \n",
       "804  Royal Challengers Bangalore           bat  Royal Challengers Bangalore   \n",
       "806          Sunrisers Hyderabad           bat          Sunrisers Hyderabad   \n",
       "807               Delhi Capitals           bat               Delhi Capitals   \n",
       "813          Sunrisers Hyderabad         field          Sunrisers Hyderabad   \n",
       "814               Delhi Capitals           bat               Delhi Capitals   \n",
       "\n",
       "     result_margin         umpire1       umpire2  \n",
       "1             33.0       MR Benson    SL Shastri  \n",
       "8              3.0       Asad Rauf     MR Benson  \n",
       "10             7.0       MR Benson     IL Howell  \n",
       "12            10.0       Asad Rauf    SL Shastri  \n",
       "14            13.0     BR Doctrove     RB Tiffin  \n",
       "..             ...             ...           ...  \n",
       "804           82.0  RK Illingworth  K Srinivasan  \n",
       "806           69.0    AK Chaudhary   Nitin Menon  \n",
       "807           13.0    AK Chaudhary   Nitin Menon  \n",
       "813            6.0      PR Reiffel        S Ravi  \n",
       "814           17.0      PR Reiffel        S Ravi  \n",
       "\n",
       "[418 rows x 12 columns]"
      ]
     },
     "execution_count": 34,
     "metadata": {},
     "output_type": "execute_result"
    }
   ],
   "source": [
    "twmw = matches1[matches1[\"toss_winner\"]==matches1[\"winner\"]]\n",
    "twmw"
   ]
  },
  {
   "cell_type": "code",
   "execution_count": 35,
   "id": "efac062c",
   "metadata": {
    "execution": {
     "iopub.execute_input": "2023-04-06T16:04:00.135921Z",
     "iopub.status.busy": "2023-04-06T16:04:00.135278Z",
     "iopub.status.idle": "2023-04-06T16:04:00.143465Z",
     "shell.execute_reply": "2023-04-06T16:04:00.142265Z"
    },
    "papermill": {
     "duration": 0.03593,
     "end_time": "2023-04-06T16:04:00.145809",
     "exception": false,
     "start_time": "2023-04-06T16:04:00.109879",
     "status": "completed"
    },
    "tags": []
   },
   "outputs": [
    {
     "data": {
      "text/plain": [
       "0.5147783251231527"
      ]
     },
     "execution_count": 35,
     "metadata": {},
     "output_type": "execute_result"
    }
   ],
   "source": [
    "perc_twmw = twmw.shape[0]/matches1.shape[0]\n",
    "perc_twmw"
   ]
  },
  {
   "cell_type": "markdown",
   "id": "e887b234",
   "metadata": {
    "papermill": {
     "duration": 0.023807,
     "end_time": "2023-04-06T16:04:00.194287",
     "exception": false,
     "start_time": "2023-04-06T16:04:00.170480",
     "status": "completed"
    },
    "tags": []
   },
   "source": [
    "**CONCLUSION - Since, the percentage of toss win match win (twmw) came out to be approx 0.5, we can conclude that toss winning has not much helped in winning the match, as it should be.**"
   ]
  },
  {
   "cell_type": "markdown",
   "id": "590ca9bb",
   "metadata": {
    "papermill": {
     "duration": 0.024042,
     "end_time": "2023-04-06T16:04:00.242442",
     "exception": false,
     "start_time": "2023-04-06T16:04:00.218400",
     "status": "completed"
    },
    "tags": []
   },
   "source": [
    "# BOXPLOT FOR EACH TEAM"
   ]
  },
  {
   "cell_type": "code",
   "execution_count": 36,
   "id": "2abfaa01",
   "metadata": {
    "execution": {
     "iopub.execute_input": "2023-04-06T16:04:00.292461Z",
     "iopub.status.busy": "2023-04-06T16:04:00.291991Z",
     "iopub.status.idle": "2023-04-06T16:04:00.717990Z",
     "shell.execute_reply": "2023-04-06T16:04:00.716770Z"
    },
    "papermill": {
     "duration": 0.453961,
     "end_time": "2023-04-06T16:04:00.720677",
     "exception": false,
     "start_time": "2023-04-06T16:04:00.266716",
     "status": "completed"
    },
    "tags": []
   },
   "outputs": [
    {
     "data": {
      "image/png": "[encoded data removed]",
      "text/plain": [
       "<Figure size 432x288 with 1 Axes>"
      ]
     },
     "metadata": {
      "needs_background": "light"
     },
     "output_type": "display_data"
    }
   ],
   "source": [
    "fig, ax = plt.subplots()\n",
    "\n",
    "ax.set_title(\"Winning by Runs - Team Performance\")\n",
    "\n",
    "sns.boxplot(y = 'winner', x = 'result_margin', data=matches[matches['result_margin']>0], orient = 'h')\n",
    "plt.show()"
   ]
  },
  {
   "cell_type": "markdown",
   "id": "3a00a0b2",
   "metadata": {
    "papermill": {
     "duration": 0.024131,
     "end_time": "2023-04-06T16:04:00.770007",
     "exception": false,
     "start_time": "2023-04-06T16:04:00.745876",
     "status": "completed"
    },
    "tags": []
   },
   "source": [
    "**CONCLUSION - From the above boxplot, we can conclude that RCB is the only team who has won by mig margins maximum number of time**"
   ]
  },
  {
   "cell_type": "code",
   "execution_count": 37,
   "id": "1e3b730a",
   "metadata": {
    "execution": {
     "iopub.execute_input": "2023-04-06T16:04:00.822228Z",
     "iopub.status.busy": "2023-04-06T16:04:00.820998Z",
     "iopub.status.idle": "2023-04-06T16:04:01.589303Z",
     "shell.execute_reply": "2023-04-06T16:04:01.587803Z"
    },
    "papermill": {
     "duration": 0.797718,
     "end_time": "2023-04-06T16:04:01.592175",
     "exception": false,
     "start_time": "2023-04-06T16:04:00.794457",
     "status": "completed"
    },
    "tags": []
   },
   "outputs": [
    {
     "data": {
      "text/plain": [
       "<AxesSubplot:xlabel='result_margin', ylabel='id'>"
      ]
     },
     "execution_count": 37,
     "metadata": {},
     "output_type": "execute_result"
    },
    {
     "data": {
      "image/png": "[encoded data removed]",
      "text/plain": [
       "<Figure size 432x288 with 1 Axes>"
      ]
     },
     "metadata": {
      "needs_background": "light"
     },
     "output_type": "display_data"
    }
   ],
   "source": [
    "sns.scatterplot(x=matches1.result_margin, y=matches1.id, hue=matches1.team1, legend=\"full\")"
   ]
  },
  {
   "cell_type": "markdown",
   "id": "34b128ab",
   "metadata": {
    "papermill": {
     "duration": 0.026692,
     "end_time": "2023-04-06T16:04:01.645752",
     "exception": false,
     "start_time": "2023-04-06T16:04:01.619060",
     "status": "completed"
    },
    "tags": []
   },
   "source": [
    "# VIOLIN PLOT"
   ]
  },
  {
   "cell_type": "code",
   "execution_count": 38,
   "id": "60ba6d32",
   "metadata": {
    "execution": {
     "iopub.execute_input": "2023-04-06T16:04:01.699485Z",
     "iopub.status.busy": "2023-04-06T16:04:01.699082Z",
     "iopub.status.idle": "2023-04-06T16:04:01.905768Z",
     "shell.execute_reply": "2023-04-06T16:04:01.904434Z"
    },
    "papermill": {
     "duration": 0.236394,
     "end_time": "2023-04-06T16:04:01.908212",
     "exception": false,
     "start_time": "2023-04-06T16:04:01.671818",
     "status": "completed"
    },
    "tags": []
   },
   "outputs": [
    {
     "name": "stderr",
     "output_type": "stream",
     "text": [
      "/opt/conda/lib/python3.7/site-packages/seaborn/_decorators.py:43: FutureWarning: Pass the following variable as a keyword arg: x. From version 0.12, the only valid positional argument will be `data`, and passing other arguments without an explicit keyword will result in an error or misinterpretation.\n",
      "  FutureWarning\n"
     ]
    },
    {
     "data": {
      "text/plain": [
       "<AxesSubplot:xlabel='result_margin'>"
      ]
     },
     "execution_count": 38,
     "metadata": {},
     "output_type": "execute_result"
    },
    {
     "data": {
      "image/png": "[encoded data removed]",
      "text/plain": [
       "<Figure size 432x288 with 1 Axes>"
      ]
     },
     "metadata": {
      "needs_background": "light"
     },
     "output_type": "display_data"
    }
   ],
   "source": [
    "sns.violinplot(matches1.result_margin, orient=\"h\")"
   ]
  },
  {
   "cell_type": "markdown",
   "id": "285ece22",
   "metadata": {
    "papermill": {
     "duration": 0.026323,
     "end_time": "2023-04-06T16:04:01.961559",
     "exception": false,
     "start_time": "2023-04-06T16:04:01.935236",
     "status": "completed"
    },
    "tags": []
   },
   "source": [
    "# NUMBER OF MATCHES PLAYED AT EACH VENUE"
   ]
  },
  {
   "cell_type": "code",
   "execution_count": 39,
   "id": "5310359a",
   "metadata": {
    "execution": {
     "iopub.execute_input": "2023-04-06T16:04:02.017520Z",
     "iopub.status.busy": "2023-04-06T16:04:02.017114Z",
     "iopub.status.idle": "2023-04-06T16:04:02.026520Z",
     "shell.execute_reply": "2023-04-06T16:04:02.025330Z"
    },
    "papermill": {
     "duration": 0.040643,
     "end_time": "2023-04-06T16:04:02.029249",
     "exception": false,
     "start_time": "2023-04-06T16:04:01.988606",
     "status": "completed"
    },
    "tags": []
   },
   "outputs": [
    {
     "data": {
      "text/plain": [
       "Eden Gardens                                            77\n",
       "Feroz Shah Kotla                                        74\n",
       "Wankhede Stadium                                        73\n",
       "M Chinnaswamy Stadium                                   65\n",
       "Rajiv Gandhi International Stadium, Uppal               64\n",
       "MA Chidambaram Stadium, Chepauk                         57\n",
       "Sawai Mansingh Stadium                                  47\n",
       "Punjab Cricket Association Stadium, Mohali              35\n",
       "Dubai International Cricket Stadium                     33\n",
       "Sheikh Zayed Stadium                                    29\n",
       "Punjab Cricket Association IS Bindra Stadium, Mohali    21\n",
       "Maharashtra Cricket Association Stadium                 21\n",
       "Sharjah Cricket Stadium                                 18\n",
       "Dr DY Patil Sports Academy                              17\n",
       "Subrata Roy Sahara Stadium                              17\n",
       "M.Chinnaswamy Stadium                                   15\n",
       "Kingsmead                                               15\n",
       "Dr. Y.S. Rajasekhara Reddy ACA-VDCA Cricket Stadium     13\n",
       "Sardar Patel Stadium, Motera                            12\n",
       "SuperSport Park                                         12\n",
       "Brabourne Stadium                                       11\n",
       "Saurashtra Cricket Association Stadium                  10\n",
       "Himachal Pradesh Cricket Association Stadium             9\n",
       "Holkar Cricket Stadium                                   9\n",
       "New Wanderers Stadium                                    8\n",
       "Barabati Stadium                                         7\n",
       "Newlands                                                 7\n",
       "St George's Park                                         7\n",
       "JSCA International Stadium Complex                       7\n",
       "Shaheed Veer Narayan Singh International Stadium         6\n",
       "Nehru Stadium                                            5\n",
       "Green Park                                               4\n",
       "Buffalo Park                                             3\n",
       "Vidarbha Cricket Association Stadium, Jamtha             3\n",
       "De Beers Diamond Oval                                    3\n",
       "OUTsurance Oval                                          2\n",
       "Name: venue, dtype: int64"
      ]
     },
     "execution_count": 39,
     "metadata": {},
     "output_type": "execute_result"
    }
   ],
   "source": [
    "matches[\"venue\"].value_counts()"
   ]
  },
  {
   "cell_type": "code",
   "execution_count": 40,
   "id": "baf7dda4",
   "metadata": {
    "execution": {
     "iopub.execute_input": "2023-04-06T16:04:02.083761Z",
     "iopub.status.busy": "2023-04-06T16:04:02.083375Z",
     "iopub.status.idle": "2023-04-06T16:04:02.619462Z",
     "shell.execute_reply": "2023-04-06T16:04:02.618062Z"
    },
    "papermill": {
     "duration": 0.566439,
     "end_time": "2023-04-06T16:04:02.622144",
     "exception": false,
     "start_time": "2023-04-06T16:04:02.055705",
     "status": "completed"
    },
    "tags": []
   },
   "outputs": [
    {
     "data": {
      "text/plain": [
       "<AxesSubplot:>"
      ]
     },
     "execution_count": 40,
     "metadata": {},
     "output_type": "execute_result"
    },
    {
     "data": {
      "image/png": "[encoded data removed]",
      "text/plain": [
       "<Figure size 432x288 with 1 Axes>"
      ]
     },
     "metadata": {
      "needs_background": "light"
     },
     "output_type": "display_data"
    }
   ],
   "source": [
    "matches[\"venue\"].value_counts().plot(kind=\"bar\")"
   ]
  },
  {
   "cell_type": "markdown",
   "id": "c7265f0b",
   "metadata": {
    "papermill": {
     "duration": 0.026916,
     "end_time": "2023-04-06T16:04:02.679505",
     "exception": false,
     "start_time": "2023-04-06T16:04:02.652589",
     "status": "completed"
    },
    "tags": []
   },
   "source": [
    "# WHICH PLAYER WON MAXIMUM MAN OF THE MATCH (MOM) AWARDS?"
   ]
  },
  {
   "cell_type": "code",
   "execution_count": 41,
   "id": "1306f21b",
   "metadata": {
    "execution": {
     "iopub.execute_input": "2023-04-06T16:04:02.737791Z",
     "iopub.status.busy": "2023-04-06T16:04:02.737315Z",
     "iopub.status.idle": "2023-04-06T16:04:02.747438Z",
     "shell.execute_reply": "2023-04-06T16:04:02.746478Z"
    },
    "papermill": {
     "duration": 0.041133,
     "end_time": "2023-04-06T16:04:02.749534",
     "exception": false,
     "start_time": "2023-04-06T16:04:02.708401",
     "status": "completed"
    },
    "tags": []
   },
   "outputs": [
    {
     "data": {
      "text/plain": [
       "AB de Villiers    23\n",
       "CH Gayle          22\n",
       "RG Sharma         18\n",
       "DA Warner         17\n",
       "MS Dhoni          17\n",
       "                  ..\n",
       "S Anirudha         1\n",
       "M Kartik           1\n",
       "R McLaren          1\n",
       "RJ Harris          1\n",
       "PJ Cummins         1\n",
       "Name: player_of_match, Length: 233, dtype: int64"
      ]
     },
     "execution_count": 41,
     "metadata": {},
     "output_type": "execute_result"
    }
   ],
   "source": [
    "matches[\"player_of_match\"].value_counts()"
   ]
  },
  {
   "cell_type": "markdown",
   "id": "45b1a04f",
   "metadata": {
    "papermill": {
     "duration": 0.027279,
     "end_time": "2023-04-06T16:04:02.804497",
     "exception": false,
     "start_time": "2023-04-06T16:04:02.777218",
     "status": "completed"
    },
    "tags": []
   },
   "source": [
    "**CONCLUSION - Hence, ABD has won maximum number of MOM awards till now.**"
   ]
  },
  {
   "cell_type": "markdown",
   "id": "ed747586",
   "metadata": {
    "papermill": {
     "duration": 0.027568,
     "end_time": "2023-04-06T16:04:02.859956",
     "exception": false,
     "start_time": "2023-04-06T16:04:02.832388",
     "status": "completed"
    },
    "tags": []
   },
   "source": [
    "# IN HOW MANY MATCHES DUCK WORTH LEWIS METHOD HAS BEEN APPLIED?"
   ]
  },
  {
   "cell_type": "code",
   "execution_count": 42,
   "id": "62197af5",
   "metadata": {
    "execution": {
     "iopub.execute_input": "2023-04-06T16:04:02.920396Z",
     "iopub.status.busy": "2023-04-06T16:04:02.919490Z",
     "iopub.status.idle": "2023-04-06T16:04:02.928202Z",
     "shell.execute_reply": "2023-04-06T16:04:02.927328Z"
    },
    "papermill": {
     "duration": 0.040867,
     "end_time": "2023-04-06T16:04:02.930354",
     "exception": false,
     "start_time": "2023-04-06T16:04:02.889487",
     "status": "completed"
    },
    "tags": []
   },
   "outputs": [
    {
     "data": {
      "text/plain": [
       "D/L    19\n",
       "Name: method, dtype: int64"
      ]
     },
     "execution_count": 42,
     "metadata": {},
     "output_type": "execute_result"
    }
   ],
   "source": [
    "matches[\"method\"].value_counts()"
   ]
  },
  {
   "cell_type": "markdown",
   "id": "9d4ee342",
   "metadata": {
    "papermill": {
     "duration": 0.027202,
     "end_time": "2023-04-06T16:04:02.985282",
     "exception": false,
     "start_time": "2023-04-06T16:04:02.958080",
     "status": "completed"
    },
    "tags": []
   },
   "source": [
    "**CONCLUSION - So, in 19 matches D/L method was used to decide the winner due to varied reasons.**"
   ]
  },
  {
   "cell_type": "code",
   "execution_count": 43,
   "id": "ad640919",
   "metadata": {
    "execution": {
     "iopub.execute_input": "2023-04-06T16:04:03.043385Z",
     "iopub.status.busy": "2023-04-06T16:04:03.042599Z",
     "iopub.status.idle": "2023-04-06T16:04:03.050857Z",
     "shell.execute_reply": "2023-04-06T16:04:03.049778Z"
    },
    "papermill": {
     "duration": 0.040194,
     "end_time": "2023-04-06T16:04:03.053124",
     "exception": false,
     "start_time": "2023-04-06T16:04:03.012930",
     "status": "completed"
    },
    "tags": []
   },
   "outputs": [
    {
     "data": {
      "text/plain": [
       "114"
      ]
     },
     "execution_count": 43,
     "metadata": {},
     "output_type": "execute_result"
    }
   ],
   "source": [
    "matches1[\"city\"].value_counts()[\"Mumbai\"]"
   ]
  },
  {
   "cell_type": "code",
   "execution_count": 44,
   "id": "4416346b",
   "metadata": {
    "execution": {
     "iopub.execute_input": "2023-04-06T16:04:03.111211Z",
     "iopub.status.busy": "2023-04-06T16:04:03.110728Z",
     "iopub.status.idle": "2023-04-06T16:04:03.137851Z",
     "shell.execute_reply": "2023-04-06T16:04:03.136680Z"
    },
    "papermill": {
     "duration": 0.058929,
     "end_time": "2023-04-06T16:04:03.140175",
     "exception": false,
     "start_time": "2023-04-06T16:04:03.081246",
     "status": "completed"
    },
    "tags": []
   },
   "outputs": [
    {
     "data": {
      "text/html": [
       "<div>\n",
       "<style scoped>\n",
       "    .dataframe tbody tr th:only-of-type {\n",
       "        vertical-align: middle;\n",
       "    }\n",
       "\n",
       "    .dataframe tbody tr th {\n",
       "        vertical-align: top;\n",
       "    }\n",
       "\n",
       "    .dataframe thead th {\n",
       "        text-align: right;\n",
       "    }\n",
       "</style>\n",
       "<table border=\"1\" class=\"dataframe\">\n",
       "  <thead>\n",
       "    <tr style=\"text-align: right;\">\n",
       "      <th></th>\n",
       "      <th>id</th>\n",
       "      <th>city</th>\n",
       "      <th>date</th>\n",
       "      <th>player_of_match</th>\n",
       "      <th>team1</th>\n",
       "      <th>team2</th>\n",
       "      <th>toss_winner</th>\n",
       "      <th>toss_decision</th>\n",
       "      <th>winner</th>\n",
       "      <th>result_margin</th>\n",
       "      <th>umpire1</th>\n",
       "      <th>umpire2</th>\n",
       "    </tr>\n",
       "  </thead>\n",
       "  <tbody>\n",
       "    <tr>\n",
       "      <th>3</th>\n",
       "      <td>335985</td>\n",
       "      <td>Mumbai</td>\n",
       "      <td>2008-04-20</td>\n",
       "      <td>MV Boucher</td>\n",
       "      <td>Mumbai Indians</td>\n",
       "      <td>Royal Challengers Bangalore</td>\n",
       "      <td>Mumbai Indians</td>\n",
       "      <td>bat</td>\n",
       "      <td>Royal Challengers Bangalore</td>\n",
       "      <td>5.0</td>\n",
       "      <td>SJ Davis</td>\n",
       "      <td>DJ Harper</td>\n",
       "    </tr>\n",
       "    <tr>\n",
       "      <th>12</th>\n",
       "      <td>335994</td>\n",
       "      <td>Mumbai</td>\n",
       "      <td>2008-04-27</td>\n",
       "      <td>AC Gilchrist</td>\n",
       "      <td>Mumbai Indians</td>\n",
       "      <td>Deccan Chargers</td>\n",
       "      <td>Deccan Chargers</td>\n",
       "      <td>field</td>\n",
       "      <td>Deccan Chargers</td>\n",
       "      <td>10.0</td>\n",
       "      <td>Asad Rauf</td>\n",
       "      <td>SL Shastri</td>\n",
       "    </tr>\n",
       "    <tr>\n",
       "      <th>22</th>\n",
       "      <td>336004</td>\n",
       "      <td>Mumbai</td>\n",
       "      <td>2008-05-04</td>\n",
       "      <td>SM Pollock</td>\n",
       "      <td>Mumbai Indians</td>\n",
       "      <td>Delhi Daredevils</td>\n",
       "      <td>Delhi Daredevils</td>\n",
       "      <td>field</td>\n",
       "      <td>Mumbai Indians</td>\n",
       "      <td>29.0</td>\n",
       "      <td>IL Howell</td>\n",
       "      <td>RE Koertzen</td>\n",
       "    </tr>\n",
       "    <tr>\n",
       "      <th>26</th>\n",
       "      <td>336008</td>\n",
       "      <td>Mumbai</td>\n",
       "      <td>2008-05-07</td>\n",
       "      <td>A Nehra</td>\n",
       "      <td>Mumbai Indians</td>\n",
       "      <td>Rajasthan Royals</td>\n",
       "      <td>Mumbai Indians</td>\n",
       "      <td>field</td>\n",
       "      <td>Mumbai Indians</td>\n",
       "      <td>7.0</td>\n",
       "      <td>DJ Harper</td>\n",
       "      <td>RE Koertzen</td>\n",
       "    </tr>\n",
       "    <tr>\n",
       "      <th>36</th>\n",
       "      <td>336018</td>\n",
       "      <td>Mumbai</td>\n",
       "      <td>2008-05-14</td>\n",
       "      <td>ST Jayasuriya</td>\n",
       "      <td>Mumbai Indians</td>\n",
       "      <td>Chennai Super Kings</td>\n",
       "      <td>Mumbai Indians</td>\n",
       "      <td>field</td>\n",
       "      <td>Mumbai Indians</td>\n",
       "      <td>9.0</td>\n",
       "      <td>BR Doctrove</td>\n",
       "      <td>AM Saheba</td>\n",
       "    </tr>\n",
       "    <tr>\n",
       "      <th>...</th>\n",
       "      <td>...</td>\n",
       "      <td>...</td>\n",
       "      <td>...</td>\n",
       "      <td>...</td>\n",
       "      <td>...</td>\n",
       "      <td>...</td>\n",
       "      <td>...</td>\n",
       "      <td>...</td>\n",
       "      <td>...</td>\n",
       "      <td>...</td>\n",
       "      <td>...</td>\n",
       "      <td>...</td>\n",
       "    </tr>\n",
       "    <tr>\n",
       "      <th>719</th>\n",
       "      <td>1178399</td>\n",
       "      <td>Mumbai</td>\n",
       "      <td>2019-04-10</td>\n",
       "      <td>KA Pollard</td>\n",
       "      <td>Mumbai Indians</td>\n",
       "      <td>Kings XI Punjab</td>\n",
       "      <td>Mumbai Indians</td>\n",
       "      <td>field</td>\n",
       "      <td>Mumbai Indians</td>\n",
       "      <td>3.0</td>\n",
       "      <td>YC Barde</td>\n",
       "      <td>S Ravi</td>\n",
       "    </tr>\n",
       "    <tr>\n",
       "      <th>722</th>\n",
       "      <td>1178402</td>\n",
       "      <td>Mumbai</td>\n",
       "      <td>2019-04-13</td>\n",
       "      <td>JC Buttler</td>\n",
       "      <td>Mumbai Indians</td>\n",
       "      <td>Rajasthan Royals</td>\n",
       "      <td>Rajasthan Royals</td>\n",
       "      <td>field</td>\n",
       "      <td>Rajasthan Royals</td>\n",
       "      <td>4.0</td>\n",
       "      <td>Nitin Menon</td>\n",
       "      <td>A Nand Kishore</td>\n",
       "    </tr>\n",
       "    <tr>\n",
       "      <th>726</th>\n",
       "      <td>1178406</td>\n",
       "      <td>Mumbai</td>\n",
       "      <td>2019-04-15</td>\n",
       "      <td>SL Malinga</td>\n",
       "      <td>Mumbai Indians</td>\n",
       "      <td>Royal Challengers Bangalore</td>\n",
       "      <td>Mumbai Indians</td>\n",
       "      <td>field</td>\n",
       "      <td>Mumbai Indians</td>\n",
       "      <td>5.0</td>\n",
       "      <td>M Erasmus</td>\n",
       "      <td>Nitin Menon</td>\n",
       "    </tr>\n",
       "    <tr>\n",
       "      <th>746</th>\n",
       "      <td>1178426</td>\n",
       "      <td>Mumbai</td>\n",
       "      <td>2019-05-02</td>\n",
       "      <td>JJ Bumrah</td>\n",
       "      <td>Mumbai Indians</td>\n",
       "      <td>Sunrisers Hyderabad</td>\n",
       "      <td>Mumbai Indians</td>\n",
       "      <td>bat</td>\n",
       "      <td>Mumbai Indians</td>\n",
       "      <td>NaN</td>\n",
       "      <td>CK Nandan</td>\n",
       "      <td>S Ravi</td>\n",
       "    </tr>\n",
       "    <tr>\n",
       "      <th>751</th>\n",
       "      <td>1178431</td>\n",
       "      <td>Mumbai</td>\n",
       "      <td>2019-05-05</td>\n",
       "      <td>HH Pandya</td>\n",
       "      <td>Mumbai Indians</td>\n",
       "      <td>Kolkata Knight Riders</td>\n",
       "      <td>Mumbai Indians</td>\n",
       "      <td>field</td>\n",
       "      <td>Mumbai Indians</td>\n",
       "      <td>9.0</td>\n",
       "      <td>A Nand Kishore</td>\n",
       "      <td>CK Nandan</td>\n",
       "    </tr>\n",
       "  </tbody>\n",
       "</table>\n",
       "<p>114 rows × 12 columns</p>\n",
       "</div>"
      ],
      "text/plain": [
       "          id    city        date player_of_match           team1  \\\n",
       "3     335985  Mumbai  2008-04-20      MV Boucher  Mumbai Indians   \n",
       "12    335994  Mumbai  2008-04-27    AC Gilchrist  Mumbai Indians   \n",
       "22    336004  Mumbai  2008-05-04      SM Pollock  Mumbai Indians   \n",
       "26    336008  Mumbai  2008-05-07         A Nehra  Mumbai Indians   \n",
       "36    336018  Mumbai  2008-05-14   ST Jayasuriya  Mumbai Indians   \n",
       "..       ...     ...         ...             ...             ...   \n",
       "719  1178399  Mumbai  2019-04-10      KA Pollard  Mumbai Indians   \n",
       "722  1178402  Mumbai  2019-04-13      JC Buttler  Mumbai Indians   \n",
       "726  1178406  Mumbai  2019-04-15      SL Malinga  Mumbai Indians   \n",
       "746  1178426  Mumbai  2019-05-02       JJ Bumrah  Mumbai Indians   \n",
       "751  1178431  Mumbai  2019-05-05       HH Pandya  Mumbai Indians   \n",
       "\n",
       "                           team2       toss_winner toss_decision  \\\n",
       "3    Royal Challengers Bangalore    Mumbai Indians           bat   \n",
       "12               Deccan Chargers   Deccan Chargers         field   \n",
       "22              Delhi Daredevils  Delhi Daredevils         field   \n",
       "26              Rajasthan Royals    Mumbai Indians         field   \n",
       "36           Chennai Super Kings    Mumbai Indians         field   \n",
       "..                           ...               ...           ...   \n",
       "719              Kings XI Punjab    Mumbai Indians         field   \n",
       "722             Rajasthan Royals  Rajasthan Royals         field   \n",
       "726  Royal Challengers Bangalore    Mumbai Indians         field   \n",
       "746          Sunrisers Hyderabad    Mumbai Indians           bat   \n",
       "751        Kolkata Knight Riders    Mumbai Indians         field   \n",
       "\n",
       "                          winner  result_margin         umpire1  \\\n",
       "3    Royal Challengers Bangalore            5.0        SJ Davis   \n",
       "12               Deccan Chargers           10.0       Asad Rauf   \n",
       "22                Mumbai Indians           29.0       IL Howell   \n",
       "26                Mumbai Indians            7.0       DJ Harper   \n",
       "36                Mumbai Indians            9.0     BR Doctrove   \n",
       "..                           ...            ...             ...   \n",
       "719               Mumbai Indians            3.0        YC Barde   \n",
       "722             Rajasthan Royals            4.0     Nitin Menon   \n",
       "726               Mumbai Indians            5.0       M Erasmus   \n",
       "746               Mumbai Indians            NaN       CK Nandan   \n",
       "751               Mumbai Indians            9.0  A Nand Kishore   \n",
       "\n",
       "            umpire2  \n",
       "3         DJ Harper  \n",
       "12       SL Shastri  \n",
       "22      RE Koertzen  \n",
       "26      RE Koertzen  \n",
       "36        AM Saheba  \n",
       "..              ...  \n",
       "719          S Ravi  \n",
       "722  A Nand Kishore  \n",
       "726     Nitin Menon  \n",
       "746          S Ravi  \n",
       "751       CK Nandan  \n",
       "\n",
       "[114 rows x 12 columns]"
      ]
     },
     "execution_count": 44,
     "metadata": {},
     "output_type": "execute_result"
    }
   ],
   "source": [
    "df_new = matches1[matches1[\"city\"]==\"Mumbai\"]\n",
    "df_new"
   ]
  },
  {
   "cell_type": "code",
   "execution_count": 45,
   "id": "f1a8d411",
   "metadata": {
    "execution": {
     "iopub.execute_input": "2023-04-06T16:04:03.199915Z",
     "iopub.status.busy": "2023-04-06T16:04:03.199186Z",
     "iopub.status.idle": "2023-04-06T16:04:03.207743Z",
     "shell.execute_reply": "2023-04-06T16:04:03.206720Z"
    },
    "papermill": {
     "duration": 0.041514,
     "end_time": "2023-04-06T16:04:03.210120",
     "exception": false,
     "start_time": "2023-04-06T16:04:03.168606",
     "status": "completed"
    },
    "tags": []
   },
   "outputs": [
    {
     "data": {
      "text/plain": [
       "field    74\n",
       "bat      40\n",
       "Name: toss_decision, dtype: int64"
      ]
     },
     "execution_count": 45,
     "metadata": {},
     "output_type": "execute_result"
    }
   ],
   "source": [
    "df_new[\"toss_decision\"].value_counts()"
   ]
  },
  {
   "cell_type": "markdown",
   "id": "495d0efe",
   "metadata": {
    "papermill": {
     "duration": 0.028572,
     "end_time": "2023-04-06T16:04:03.267238",
     "exception": false,
     "start_time": "2023-04-06T16:04:03.238666",
     "status": "completed"
    },
    "tags": []
   },
   "source": [
    "**CONCLUSION - It can be concluded that in MUMBAI, maximum number of times (i.e. approx 65%) a team choose to field first after winning the toss.**"
   ]
  },
  {
   "cell_type": "code",
   "execution_count": 46,
   "id": "ccbebe91",
   "metadata": {
    "execution": {
     "iopub.execute_input": "2023-04-06T16:04:03.327919Z",
     "iopub.status.busy": "2023-04-06T16:04:03.327503Z",
     "iopub.status.idle": "2023-04-06T16:04:03.345144Z",
     "shell.execute_reply": "2023-04-06T16:04:03.344075Z"
    },
    "papermill": {
     "duration": 0.052043,
     "end_time": "2023-04-06T16:04:03.347268",
     "exception": false,
     "start_time": "2023-04-06T16:04:03.295225",
     "status": "completed"
    },
    "tags": []
   },
   "outputs": [
    {
     "data": {
      "text/html": [
       "<div>\n",
       "<style scoped>\n",
       "    .dataframe tbody tr th:only-of-type {\n",
       "        vertical-align: middle;\n",
       "    }\n",
       "\n",
       "    .dataframe tbody tr th {\n",
       "        vertical-align: top;\n",
       "    }\n",
       "\n",
       "    .dataframe thead th {\n",
       "        text-align: right;\n",
       "    }\n",
       "</style>\n",
       "<table border=\"1\" class=\"dataframe\">\n",
       "  <thead>\n",
       "    <tr style=\"text-align: right;\">\n",
       "      <th></th>\n",
       "      <th>city</th>\n",
       "      <th>team1</th>\n",
       "      <th>team2</th>\n",
       "      <th>toss_winner</th>\n",
       "      <th>toss_decision</th>\n",
       "      <th>winner</th>\n",
       "    </tr>\n",
       "  </thead>\n",
       "  <tbody>\n",
       "    <tr>\n",
       "      <th>3</th>\n",
       "      <td>Mumbai</td>\n",
       "      <td>Mumbai Indians</td>\n",
       "      <td>Royal Challengers Bangalore</td>\n",
       "      <td>Mumbai Indians</td>\n",
       "      <td>bat</td>\n",
       "      <td>Royal Challengers Bangalore</td>\n",
       "    </tr>\n",
       "    <tr>\n",
       "      <th>12</th>\n",
       "      <td>Mumbai</td>\n",
       "      <td>Mumbai Indians</td>\n",
       "      <td>Deccan Chargers</td>\n",
       "      <td>Deccan Chargers</td>\n",
       "      <td>field</td>\n",
       "      <td>Deccan Chargers</td>\n",
       "    </tr>\n",
       "    <tr>\n",
       "      <th>22</th>\n",
       "      <td>Mumbai</td>\n",
       "      <td>Mumbai Indians</td>\n",
       "      <td>Delhi Daredevils</td>\n",
       "      <td>Delhi Daredevils</td>\n",
       "      <td>field</td>\n",
       "      <td>Mumbai Indians</td>\n",
       "    </tr>\n",
       "    <tr>\n",
       "      <th>26</th>\n",
       "      <td>Mumbai</td>\n",
       "      <td>Mumbai Indians</td>\n",
       "      <td>Rajasthan Royals</td>\n",
       "      <td>Mumbai Indians</td>\n",
       "      <td>field</td>\n",
       "      <td>Mumbai Indians</td>\n",
       "    </tr>\n",
       "    <tr>\n",
       "      <th>36</th>\n",
       "      <td>Mumbai</td>\n",
       "      <td>Mumbai Indians</td>\n",
       "      <td>Chennai Super Kings</td>\n",
       "      <td>Mumbai Indians</td>\n",
       "      <td>field</td>\n",
       "      <td>Mumbai Indians</td>\n",
       "    </tr>\n",
       "    <tr>\n",
       "      <th>...</th>\n",
       "      <td>...</td>\n",
       "      <td>...</td>\n",
       "      <td>...</td>\n",
       "      <td>...</td>\n",
       "      <td>...</td>\n",
       "      <td>...</td>\n",
       "    </tr>\n",
       "    <tr>\n",
       "      <th>719</th>\n",
       "      <td>Mumbai</td>\n",
       "      <td>Mumbai Indians</td>\n",
       "      <td>Kings XI Punjab</td>\n",
       "      <td>Mumbai Indians</td>\n",
       "      <td>field</td>\n",
       "      <td>Mumbai Indians</td>\n",
       "    </tr>\n",
       "    <tr>\n",
       "      <th>722</th>\n",
       "      <td>Mumbai</td>\n",
       "      <td>Mumbai Indians</td>\n",
       "      <td>Rajasthan Royals</td>\n",
       "      <td>Rajasthan Royals</td>\n",
       "      <td>field</td>\n",
       "      <td>Rajasthan Royals</td>\n",
       "    </tr>\n",
       "    <tr>\n",
       "      <th>726</th>\n",
       "      <td>Mumbai</td>\n",
       "      <td>Mumbai Indians</td>\n",
       "      <td>Royal Challengers Bangalore</td>\n",
       "      <td>Mumbai Indians</td>\n",
       "      <td>field</td>\n",
       "      <td>Mumbai Indians</td>\n",
       "    </tr>\n",
       "    <tr>\n",
       "      <th>746</th>\n",
       "      <td>Mumbai</td>\n",
       "      <td>Mumbai Indians</td>\n",
       "      <td>Sunrisers Hyderabad</td>\n",
       "      <td>Mumbai Indians</td>\n",
       "      <td>bat</td>\n",
       "      <td>Mumbai Indians</td>\n",
       "    </tr>\n",
       "    <tr>\n",
       "      <th>751</th>\n",
       "      <td>Mumbai</td>\n",
       "      <td>Mumbai Indians</td>\n",
       "      <td>Kolkata Knight Riders</td>\n",
       "      <td>Mumbai Indians</td>\n",
       "      <td>field</td>\n",
       "      <td>Mumbai Indians</td>\n",
       "    </tr>\n",
       "  </tbody>\n",
       "</table>\n",
       "<p>114 rows × 6 columns</p>\n",
       "</div>"
      ],
      "text/plain": [
       "       city           team1                        team2       toss_winner  \\\n",
       "3    Mumbai  Mumbai Indians  Royal Challengers Bangalore    Mumbai Indians   \n",
       "12   Mumbai  Mumbai Indians              Deccan Chargers   Deccan Chargers   \n",
       "22   Mumbai  Mumbai Indians             Delhi Daredevils  Delhi Daredevils   \n",
       "26   Mumbai  Mumbai Indians             Rajasthan Royals    Mumbai Indians   \n",
       "36   Mumbai  Mumbai Indians          Chennai Super Kings    Mumbai Indians   \n",
       "..      ...             ...                          ...               ...   \n",
       "719  Mumbai  Mumbai Indians              Kings XI Punjab    Mumbai Indians   \n",
       "722  Mumbai  Mumbai Indians             Rajasthan Royals  Rajasthan Royals   \n",
       "726  Mumbai  Mumbai Indians  Royal Challengers Bangalore    Mumbai Indians   \n",
       "746  Mumbai  Mumbai Indians          Sunrisers Hyderabad    Mumbai Indians   \n",
       "751  Mumbai  Mumbai Indians        Kolkata Knight Riders    Mumbai Indians   \n",
       "\n",
       "    toss_decision                       winner  \n",
       "3             bat  Royal Challengers Bangalore  \n",
       "12          field              Deccan Chargers  \n",
       "22          field               Mumbai Indians  \n",
       "26          field               Mumbai Indians  \n",
       "36          field               Mumbai Indians  \n",
       "..            ...                          ...  \n",
       "719         field               Mumbai Indians  \n",
       "722         field             Rajasthan Royals  \n",
       "726         field               Mumbai Indians  \n",
       "746           bat               Mumbai Indians  \n",
       "751         field               Mumbai Indians  \n",
       "\n",
       "[114 rows x 6 columns]"
      ]
     },
     "execution_count": 46,
     "metadata": {},
     "output_type": "execute_result"
    }
   ],
   "source": [
    "df_new.drop([\"id\", \"date\", \"player_of_match\", \"result_margin\", \"umpire1\", \"umpire2\"], axis=1)"
   ]
  },
  {
   "cell_type": "code",
   "execution_count": 47,
   "id": "f0566ac5",
   "metadata": {
    "execution": {
     "iopub.execute_input": "2023-04-06T16:04:03.407993Z",
     "iopub.status.busy": "2023-04-06T16:04:03.407601Z",
     "iopub.status.idle": "2023-04-06T16:04:03.432219Z",
     "shell.execute_reply": "2023-04-06T16:04:03.431042Z"
    },
    "papermill": {
     "duration": 0.057889,
     "end_time": "2023-04-06T16:04:03.434508",
     "exception": false,
     "start_time": "2023-04-06T16:04:03.376619",
     "status": "completed"
    },
    "tags": []
   },
   "outputs": [
    {
     "data": {
      "text/html": [
       "<div>\n",
       "<style scoped>\n",
       "    .dataframe tbody tr th:only-of-type {\n",
       "        vertical-align: middle;\n",
       "    }\n",
       "\n",
       "    .dataframe tbody tr th {\n",
       "        vertical-align: top;\n",
       "    }\n",
       "\n",
       "    .dataframe thead th {\n",
       "        text-align: right;\n",
       "    }\n",
       "</style>\n",
       "<table border=\"1\" class=\"dataframe\">\n",
       "  <thead>\n",
       "    <tr style=\"text-align: right;\">\n",
       "      <th></th>\n",
       "      <th>id</th>\n",
       "      <th>city</th>\n",
       "      <th>date</th>\n",
       "      <th>player_of_match</th>\n",
       "      <th>team1</th>\n",
       "      <th>team2</th>\n",
       "      <th>toss_winner</th>\n",
       "      <th>toss_decision</th>\n",
       "      <th>winner</th>\n",
       "      <th>result_margin</th>\n",
       "      <th>umpire1</th>\n",
       "      <th>umpire2</th>\n",
       "    </tr>\n",
       "  </thead>\n",
       "  <tbody>\n",
       "    <tr>\n",
       "      <th>12</th>\n",
       "      <td>335994</td>\n",
       "      <td>Mumbai</td>\n",
       "      <td>2008-04-27</td>\n",
       "      <td>AC Gilchrist</td>\n",
       "      <td>Mumbai Indians</td>\n",
       "      <td>Deccan Chargers</td>\n",
       "      <td>Deccan Chargers</td>\n",
       "      <td>field</td>\n",
       "      <td>Deccan Chargers</td>\n",
       "      <td>10.0</td>\n",
       "      <td>Asad Rauf</td>\n",
       "      <td>SL Shastri</td>\n",
       "    </tr>\n",
       "    <tr>\n",
       "      <th>22</th>\n",
       "      <td>336004</td>\n",
       "      <td>Mumbai</td>\n",
       "      <td>2008-05-04</td>\n",
       "      <td>SM Pollock</td>\n",
       "      <td>Mumbai Indians</td>\n",
       "      <td>Delhi Daredevils</td>\n",
       "      <td>Delhi Daredevils</td>\n",
       "      <td>field</td>\n",
       "      <td>Mumbai Indians</td>\n",
       "      <td>29.0</td>\n",
       "      <td>IL Howell</td>\n",
       "      <td>RE Koertzen</td>\n",
       "    </tr>\n",
       "    <tr>\n",
       "      <th>26</th>\n",
       "      <td>336008</td>\n",
       "      <td>Mumbai</td>\n",
       "      <td>2008-05-07</td>\n",
       "      <td>A Nehra</td>\n",
       "      <td>Mumbai Indians</td>\n",
       "      <td>Rajasthan Royals</td>\n",
       "      <td>Mumbai Indians</td>\n",
       "      <td>field</td>\n",
       "      <td>Mumbai Indians</td>\n",
       "      <td>7.0</td>\n",
       "      <td>DJ Harper</td>\n",
       "      <td>RE Koertzen</td>\n",
       "    </tr>\n",
       "    <tr>\n",
       "      <th>36</th>\n",
       "      <td>336018</td>\n",
       "      <td>Mumbai</td>\n",
       "      <td>2008-05-14</td>\n",
       "      <td>ST Jayasuriya</td>\n",
       "      <td>Mumbai Indians</td>\n",
       "      <td>Chennai Super Kings</td>\n",
       "      <td>Mumbai Indians</td>\n",
       "      <td>field</td>\n",
       "      <td>Mumbai Indians</td>\n",
       "      <td>9.0</td>\n",
       "      <td>BR Doctrove</td>\n",
       "      <td>AM Saheba</td>\n",
       "    </tr>\n",
       "    <tr>\n",
       "      <th>39</th>\n",
       "      <td>336021</td>\n",
       "      <td>Mumbai</td>\n",
       "      <td>2008-05-16</td>\n",
       "      <td>SM Pollock</td>\n",
       "      <td>Mumbai Indians</td>\n",
       "      <td>Kolkata Knight Riders</td>\n",
       "      <td>Mumbai Indians</td>\n",
       "      <td>field</td>\n",
       "      <td>Mumbai Indians</td>\n",
       "      <td>8.0</td>\n",
       "      <td>BR Doctrove</td>\n",
       "      <td>DJ Harper</td>\n",
       "    </tr>\n",
       "    <tr>\n",
       "      <th>...</th>\n",
       "      <td>...</td>\n",
       "      <td>...</td>\n",
       "      <td>...</td>\n",
       "      <td>...</td>\n",
       "      <td>...</td>\n",
       "      <td>...</td>\n",
       "      <td>...</td>\n",
       "      <td>...</td>\n",
       "      <td>...</td>\n",
       "      <td>...</td>\n",
       "      <td>...</td>\n",
       "      <td>...</td>\n",
       "    </tr>\n",
       "    <tr>\n",
       "      <th>710</th>\n",
       "      <td>1175370</td>\n",
       "      <td>Mumbai</td>\n",
       "      <td>2019-04-03</td>\n",
       "      <td>HH Pandya</td>\n",
       "      <td>Mumbai Indians</td>\n",
       "      <td>Chennai Super Kings</td>\n",
       "      <td>Chennai Super Kings</td>\n",
       "      <td>field</td>\n",
       "      <td>Mumbai Indians</td>\n",
       "      <td>37.0</td>\n",
       "      <td>RJ Tucker</td>\n",
       "      <td>BNJ Oxenford</td>\n",
       "    </tr>\n",
       "    <tr>\n",
       "      <th>719</th>\n",
       "      <td>1178399</td>\n",
       "      <td>Mumbai</td>\n",
       "      <td>2019-04-10</td>\n",
       "      <td>KA Pollard</td>\n",
       "      <td>Mumbai Indians</td>\n",
       "      <td>Kings XI Punjab</td>\n",
       "      <td>Mumbai Indians</td>\n",
       "      <td>field</td>\n",
       "      <td>Mumbai Indians</td>\n",
       "      <td>3.0</td>\n",
       "      <td>YC Barde</td>\n",
       "      <td>S Ravi</td>\n",
       "    </tr>\n",
       "    <tr>\n",
       "      <th>722</th>\n",
       "      <td>1178402</td>\n",
       "      <td>Mumbai</td>\n",
       "      <td>2019-04-13</td>\n",
       "      <td>JC Buttler</td>\n",
       "      <td>Mumbai Indians</td>\n",
       "      <td>Rajasthan Royals</td>\n",
       "      <td>Rajasthan Royals</td>\n",
       "      <td>field</td>\n",
       "      <td>Rajasthan Royals</td>\n",
       "      <td>4.0</td>\n",
       "      <td>Nitin Menon</td>\n",
       "      <td>A Nand Kishore</td>\n",
       "    </tr>\n",
       "    <tr>\n",
       "      <th>726</th>\n",
       "      <td>1178406</td>\n",
       "      <td>Mumbai</td>\n",
       "      <td>2019-04-15</td>\n",
       "      <td>SL Malinga</td>\n",
       "      <td>Mumbai Indians</td>\n",
       "      <td>Royal Challengers Bangalore</td>\n",
       "      <td>Mumbai Indians</td>\n",
       "      <td>field</td>\n",
       "      <td>Mumbai Indians</td>\n",
       "      <td>5.0</td>\n",
       "      <td>M Erasmus</td>\n",
       "      <td>Nitin Menon</td>\n",
       "    </tr>\n",
       "    <tr>\n",
       "      <th>751</th>\n",
       "      <td>1178431</td>\n",
       "      <td>Mumbai</td>\n",
       "      <td>2019-05-05</td>\n",
       "      <td>HH Pandya</td>\n",
       "      <td>Mumbai Indians</td>\n",
       "      <td>Kolkata Knight Riders</td>\n",
       "      <td>Mumbai Indians</td>\n",
       "      <td>field</td>\n",
       "      <td>Mumbai Indians</td>\n",
       "      <td>9.0</td>\n",
       "      <td>A Nand Kishore</td>\n",
       "      <td>CK Nandan</td>\n",
       "    </tr>\n",
       "  </tbody>\n",
       "</table>\n",
       "<p>74 rows × 12 columns</p>\n",
       "</div>"
      ],
      "text/plain": [
       "          id    city        date player_of_match           team1  \\\n",
       "12    335994  Mumbai  2008-04-27    AC Gilchrist  Mumbai Indians   \n",
       "22    336004  Mumbai  2008-05-04      SM Pollock  Mumbai Indians   \n",
       "26    336008  Mumbai  2008-05-07         A Nehra  Mumbai Indians   \n",
       "36    336018  Mumbai  2008-05-14   ST Jayasuriya  Mumbai Indians   \n",
       "39    336021  Mumbai  2008-05-16      SM Pollock  Mumbai Indians   \n",
       "..       ...     ...         ...             ...             ...   \n",
       "710  1175370  Mumbai  2019-04-03       HH Pandya  Mumbai Indians   \n",
       "719  1178399  Mumbai  2019-04-10      KA Pollard  Mumbai Indians   \n",
       "722  1178402  Mumbai  2019-04-13      JC Buttler  Mumbai Indians   \n",
       "726  1178406  Mumbai  2019-04-15      SL Malinga  Mumbai Indians   \n",
       "751  1178431  Mumbai  2019-05-05       HH Pandya  Mumbai Indians   \n",
       "\n",
       "                           team2          toss_winner toss_decision  \\\n",
       "12               Deccan Chargers      Deccan Chargers         field   \n",
       "22              Delhi Daredevils     Delhi Daredevils         field   \n",
       "26              Rajasthan Royals       Mumbai Indians         field   \n",
       "36           Chennai Super Kings       Mumbai Indians         field   \n",
       "39         Kolkata Knight Riders       Mumbai Indians         field   \n",
       "..                           ...                  ...           ...   \n",
       "710          Chennai Super Kings  Chennai Super Kings         field   \n",
       "719              Kings XI Punjab       Mumbai Indians         field   \n",
       "722             Rajasthan Royals     Rajasthan Royals         field   \n",
       "726  Royal Challengers Bangalore       Mumbai Indians         field   \n",
       "751        Kolkata Knight Riders       Mumbai Indians         field   \n",
       "\n",
       "               winner  result_margin         umpire1         umpire2  \n",
       "12    Deccan Chargers           10.0       Asad Rauf      SL Shastri  \n",
       "22     Mumbai Indians           29.0       IL Howell     RE Koertzen  \n",
       "26     Mumbai Indians            7.0       DJ Harper     RE Koertzen  \n",
       "36     Mumbai Indians            9.0     BR Doctrove       AM Saheba  \n",
       "39     Mumbai Indians            8.0     BR Doctrove       DJ Harper  \n",
       "..                ...            ...             ...             ...  \n",
       "710    Mumbai Indians           37.0       RJ Tucker    BNJ Oxenford  \n",
       "719    Mumbai Indians            3.0        YC Barde          S Ravi  \n",
       "722  Rajasthan Royals            4.0     Nitin Menon  A Nand Kishore  \n",
       "726    Mumbai Indians            5.0       M Erasmus     Nitin Menon  \n",
       "751    Mumbai Indians            9.0  A Nand Kishore       CK Nandan  \n",
       "\n",
       "[74 rows x 12 columns]"
      ]
     },
     "execution_count": 47,
     "metadata": {},
     "output_type": "execute_result"
    }
   ],
   "source": [
    "df_ = df_new[df_new[\"toss_decision\"]==\"field\"]\n",
    "df_"
   ]
  },
  {
   "cell_type": "code",
   "execution_count": 48,
   "id": "00da84a6",
   "metadata": {
    "execution": {
     "iopub.execute_input": "2023-04-06T16:04:03.495279Z",
     "iopub.status.busy": "2023-04-06T16:04:03.494830Z",
     "iopub.status.idle": "2023-04-06T16:04:03.503343Z",
     "shell.execute_reply": "2023-04-06T16:04:03.502211Z"
    },
    "papermill": {
     "duration": 0.041741,
     "end_time": "2023-04-06T16:04:03.505638",
     "exception": false,
     "start_time": "2023-04-06T16:04:03.463897",
     "status": "completed"
    },
    "tags": []
   },
   "outputs": [
    {
     "data": {
      "text/plain": [
       "(39, 12)"
      ]
     },
     "execution_count": 48,
     "metadata": {},
     "output_type": "execute_result"
    }
   ],
   "source": [
    "df_[df_[\"toss_winner\"]==df_[\"winner\"]].shape"
   ]
  },
  {
   "cell_type": "markdown",
   "id": "9bd1d4a0",
   "metadata": {
    "papermill": {
     "duration": 0.028688,
     "end_time": "2023-04-06T16:04:03.563729",
     "exception": false,
     "start_time": "2023-04-06T16:04:03.535041",
     "status": "completed"
    },
    "tags": []
   },
   "source": [
    "**CONCLUSION - Hence, out of 74 matches in Mumbai, in which a team won the toss and elected to field first, they won 39 matches.\n",
    "Therefore, approx 53% of their decision went right.\n",
    "So, we can say that we can choose anything after winning toss, bat or bowl, it doesn't matter!!**"
   ]
  },
  {
   "cell_type": "code",
   "execution_count": 49,
   "id": "b708366e",
   "metadata": {
    "execution": {
     "iopub.execute_input": "2023-04-06T16:04:03.623718Z",
     "iopub.status.busy": "2023-04-06T16:04:03.623308Z",
     "iopub.status.idle": "2023-04-06T16:04:03.638482Z",
     "shell.execute_reply": "2023-04-06T16:04:03.636587Z"
    },
    "papermill": {
     "duration": 0.048572,
     "end_time": "2023-04-06T16:04:03.641540",
     "exception": false,
     "start_time": "2023-04-06T16:04:03.592968",
     "status": "completed"
    },
    "tags": []
   },
   "outputs": [
    {
     "data": {
      "text/plain": [
       "164"
      ]
     },
     "execution_count": 49,
     "metadata": {},
     "output_type": "execute_result"
    }
   ],
   "source": [
    "bbb[\"fielder\"].value_counts()[\"MS Dhoni\"]"
   ]
  },
  {
   "cell_type": "markdown",
   "id": "a59cf676",
   "metadata": {
    "papermill": {
     "duration": 0.033878,
     "end_time": "2023-04-06T16:04:03.711194",
     "exception": false,
     "start_time": "2023-04-06T16:04:03.677316",
     "status": "completed"
    },
    "tags": []
   },
   "source": [
    "**MSD has taken 164 catches in IPL till now**"
   ]
  },
  {
   "cell_type": "code",
   "execution_count": 50,
   "id": "25210ae8",
   "metadata": {
    "execution": {
     "iopub.execute_input": "2023-04-06T16:04:03.780053Z",
     "iopub.status.busy": "2023-04-06T16:04:03.779621Z",
     "iopub.status.idle": "2023-04-06T16:04:03.790096Z",
     "shell.execute_reply": "2023-04-06T16:04:03.789040Z"
    },
    "papermill": {
     "duration": 0.043319,
     "end_time": "2023-04-06T16:04:03.792263",
     "exception": false,
     "start_time": "2023-04-06T16:04:03.748944",
     "status": "completed"
    },
    "tags": []
   },
   "outputs": [
    {
     "data": {
      "text/plain": [
       "0    77637\n",
       "1    71937\n",
       "4    21908\n",
       "2    12408\n",
       "6     8902\n",
       "3      616\n",
       "5       60\n",
       "Name: batsman_runs, dtype: int64"
      ]
     },
     "execution_count": 50,
     "metadata": {},
     "output_type": "execute_result"
    }
   ],
   "source": [
    "bbb[\"batsman_runs\"].value_counts()"
   ]
  },
  {
   "cell_type": "code",
   "execution_count": 51,
   "id": "2ecad0d9",
   "metadata": {
    "execution": {
     "iopub.execute_input": "2023-04-06T16:04:03.851968Z",
     "iopub.status.busy": "2023-04-06T16:04:03.851524Z",
     "iopub.status.idle": "2023-04-06T16:04:03.865223Z",
     "shell.execute_reply": "2023-04-06T16:04:03.864156Z"
    },
    "papermill": {
     "duration": 0.046342,
     "end_time": "2023-04-06T16:04:03.867606",
     "exception": false,
     "start_time": "2023-04-06T16:04:03.821264",
     "status": "completed"
    },
    "tags": []
   },
   "outputs": [
    {
     "data": {
      "text/plain": [
       "caught                   5743\n",
       "bowled                   1700\n",
       "run out                   893\n",
       "lbw                       571\n",
       "stumped                   294\n",
       "caught and bowled         269\n",
       "hit wicket                 12\n",
       "retired hurt               11\n",
       "obstructing the field       2\n",
       "Name: dismissal_kind, dtype: int64"
      ]
     },
     "execution_count": 51,
     "metadata": {},
     "output_type": "execute_result"
    }
   ],
   "source": [
    "bbb[\"dismissal_kind\"].value_counts()"
   ]
  }
 ],
 "metadata": {
  "kernelspec": {
   "display_name": "Python 3 (ipykernel)",
   "language": "python",
   "name": "python3"
  },
  "language_info": {
   "codemirror_mode": {
    "name": "ipython",
    "version": 3
   },
   "file_extension": ".py",
   "mimetype": "text/x-python",
   "name": "python",
   "nbconvert_exporter": "python",
   "pygments_lexer": "ipython3",
   "version": "3.9.12"
  },
  "papermill": {
   "default_parameters": {},
   "duration": 21.056867,
   "end_time": "2023-04-06T16:04:04.719313",
   "environment_variables": {},
   "exception": null,
   "input_path": "__notebook__.ipynb",
   "output_path": "__notebook__.ipynb",
   "parameters": {},
   "start_time": "2023-04-06T16:03:43.662446",
   "version": "2.3.4"
  }
 },
 "nbformat": 4,
 "nbformat_minor": 5
}
